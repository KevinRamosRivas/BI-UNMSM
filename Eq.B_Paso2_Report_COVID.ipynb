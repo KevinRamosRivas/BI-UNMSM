{
 "cells": [
  {
   "cell_type": "code",
   "execution_count": 1,
   "id": "e3015c23",
   "metadata": {
    "id": "e3015c23"
   },
   "outputs": [],
   "source": [
    "import pandas as pd\n",
    "import numpy as np\n",
    "import seaborn as sns\n",
    "import matplotlib.pyplot as plt"
   ]
  },
  {
   "cell_type": "code",
   "execution_count": 2,
   "id": "NfpU4P1SVAFe",
   "metadata": {
    "id": "NfpU4P1SVAFe"
   },
   "outputs": [],
   "source": [
    "data = pd.read_excel('fallecidos_covid19.xlsx',sheet_name='Sheet1')"
   ]
  },
  {
   "cell_type": "code",
   "execution_count": 3,
   "id": "f656424b",
   "metadata": {
    "colab": {
     "base_uri": "https://localhost:8080/",
     "height": 626
    },
    "id": "f656424b",
    "outputId": "dc5021d8-d061-4fdf-d888-76fadf4c5581"
   },
   "outputs": [
    {
     "data": {
      "text/html": [
       "<div>\n",
       "<style scoped>\n",
       "    .dataframe tbody tr th:only-of-type {\n",
       "        vertical-align: middle;\n",
       "    }\n",
       "\n",
       "    .dataframe tbody tr th {\n",
       "        vertical-align: top;\n",
       "    }\n",
       "\n",
       "    .dataframe thead th {\n",
       "        text-align: right;\n",
       "    }\n",
       "</style>\n",
       "<table border=\"1\" class=\"dataframe\">\n",
       "  <thead>\n",
       "    <tr style=\"text-align: right;\">\n",
       "      <th></th>\n",
       "      <th>DEPARTAMENTO</th>\n",
       "      <th>PROVINCIA</th>\n",
       "      <th>DISTRITO</th>\n",
       "      <th>SEXO</th>\n",
       "      <th>Year</th>\n",
       "      <th>Month</th>\n",
       "      <th>Day</th>\n",
       "      <th>contar_fall</th>\n",
       "      <th>METODODX</th>\n",
       "      <th>contar_pos</th>\n",
       "      <th>Riesgo_distrito</th>\n",
       "    </tr>\n",
       "  </thead>\n",
       "  <tbody>\n",
       "    <tr>\n",
       "      <th>0</th>\n",
       "      <td>AMAZONAS</td>\n",
       "      <td>BAGUA</td>\n",
       "      <td>BAGUA</td>\n",
       "      <td>FEMENINO</td>\n",
       "      <td>2020</td>\n",
       "      <td>7</td>\n",
       "      <td>20</td>\n",
       "      <td>1.0</td>\n",
       "      <td>PR</td>\n",
       "      <td>4.0</td>\n",
       "      <td>4.0</td>\n",
       "    </tr>\n",
       "    <tr>\n",
       "      <th>1</th>\n",
       "      <td>AMAZONAS</td>\n",
       "      <td>BAGUA</td>\n",
       "      <td>BAGUA</td>\n",
       "      <td>MASCULINO</td>\n",
       "      <td>2021</td>\n",
       "      <td>4</td>\n",
       "      <td>23</td>\n",
       "      <td>2.0</td>\n",
       "      <td>PR</td>\n",
       "      <td>1.0</td>\n",
       "      <td>4.0</td>\n",
       "    </tr>\n",
       "    <tr>\n",
       "      <th>2</th>\n",
       "      <td>AMAZONAS</td>\n",
       "      <td>UTCUBAMBA</td>\n",
       "      <td>BAGUA GRANDE</td>\n",
       "      <td>MASCULINO</td>\n",
       "      <td>2021</td>\n",
       "      <td>2</td>\n",
       "      <td>3</td>\n",
       "      <td>1.0</td>\n",
       "      <td>PR</td>\n",
       "      <td>1.0</td>\n",
       "      <td>4.0</td>\n",
       "    </tr>\n",
       "    <tr>\n",
       "      <th>3</th>\n",
       "      <td>ANCASH</td>\n",
       "      <td>CASMA</td>\n",
       "      <td>CASMA</td>\n",
       "      <td>MASCULINO</td>\n",
       "      <td>2020</td>\n",
       "      <td>5</td>\n",
       "      <td>8</td>\n",
       "      <td>1.0</td>\n",
       "      <td>PR</td>\n",
       "      <td>2.0</td>\n",
       "      <td>3.0</td>\n",
       "    </tr>\n",
       "    <tr>\n",
       "      <th>4</th>\n",
       "      <td>ANCASH</td>\n",
       "      <td>CASMA</td>\n",
       "      <td>CASMA</td>\n",
       "      <td>MASCULINO</td>\n",
       "      <td>2021</td>\n",
       "      <td>4</td>\n",
       "      <td>7</td>\n",
       "      <td>1.0</td>\n",
       "      <td>PR</td>\n",
       "      <td>1.0</td>\n",
       "      <td>2.0</td>\n",
       "    </tr>\n",
       "    <tr>\n",
       "      <th>...</th>\n",
       "      <td>...</td>\n",
       "      <td>...</td>\n",
       "      <td>...</td>\n",
       "      <td>...</td>\n",
       "      <td>...</td>\n",
       "      <td>...</td>\n",
       "      <td>...</td>\n",
       "      <td>...</td>\n",
       "      <td>...</td>\n",
       "      <td>...</td>\n",
       "      <td>...</td>\n",
       "    </tr>\n",
       "    <tr>\n",
       "      <th>44196</th>\n",
       "      <td>UCAYALI</td>\n",
       "      <td>CORONEL PORTILLO</td>\n",
       "      <td>MANANTAY</td>\n",
       "      <td>FEMENINO</td>\n",
       "      <td>2021</td>\n",
       "      <td>4</td>\n",
       "      <td>8</td>\n",
       "      <td>3.0</td>\n",
       "      <td>AG</td>\n",
       "      <td>1.0</td>\n",
       "      <td>2.0</td>\n",
       "    </tr>\n",
       "    <tr>\n",
       "      <th>44197</th>\n",
       "      <td>UCAYALI</td>\n",
       "      <td>CORONEL PORTILLO</td>\n",
       "      <td>MANANTAY</td>\n",
       "      <td>MASCULINO</td>\n",
       "      <td>2020</td>\n",
       "      <td>6</td>\n",
       "      <td>1</td>\n",
       "      <td>1.0</td>\n",
       "      <td>PR</td>\n",
       "      <td>13.0</td>\n",
       "      <td>2.0</td>\n",
       "    </tr>\n",
       "    <tr>\n",
       "      <th>44198</th>\n",
       "      <td>UCAYALI</td>\n",
       "      <td>CORONEL PORTILLO</td>\n",
       "      <td>YARINACOCHA</td>\n",
       "      <td>FEMENINO</td>\n",
       "      <td>2020</td>\n",
       "      <td>5</td>\n",
       "      <td>6</td>\n",
       "      <td>5.0</td>\n",
       "      <td>PR</td>\n",
       "      <td>4.0</td>\n",
       "      <td>3.0</td>\n",
       "    </tr>\n",
       "    <tr>\n",
       "      <th>44199</th>\n",
       "      <td>UCAYALI</td>\n",
       "      <td>CORONEL PORTILLO</td>\n",
       "      <td>YARINACOCHA</td>\n",
       "      <td>FEMENINO</td>\n",
       "      <td>2020</td>\n",
       "      <td>10</td>\n",
       "      <td>11</td>\n",
       "      <td>1.0</td>\n",
       "      <td>PR</td>\n",
       "      <td>2.0</td>\n",
       "      <td>4.0</td>\n",
       "    </tr>\n",
       "    <tr>\n",
       "      <th>44200</th>\n",
       "      <td>UCAYALI</td>\n",
       "      <td>PADRE ABAD</td>\n",
       "      <td>PADRE ABAD</td>\n",
       "      <td>MASCULINO</td>\n",
       "      <td>2020</td>\n",
       "      <td>5</td>\n",
       "      <td>19</td>\n",
       "      <td>1.0</td>\n",
       "      <td>PR</td>\n",
       "      <td>2.0</td>\n",
       "      <td>1.0</td>\n",
       "    </tr>\n",
       "  </tbody>\n",
       "</table>\n",
       "<p>44201 rows × 11 columns</p>\n",
       "</div>"
      ],
      "text/plain": [
       "      DEPARTAMENTO         PROVINCIA      DISTRITO       SEXO  Year  Month  \\\n",
       "0         AMAZONAS             BAGUA         BAGUA   FEMENINO  2020      7   \n",
       "1         AMAZONAS             BAGUA         BAGUA  MASCULINO  2021      4   \n",
       "2         AMAZONAS         UTCUBAMBA  BAGUA GRANDE  MASCULINO  2021      2   \n",
       "3           ANCASH             CASMA         CASMA  MASCULINO  2020      5   \n",
       "4           ANCASH             CASMA         CASMA  MASCULINO  2021      4   \n",
       "...            ...               ...           ...        ...   ...    ...   \n",
       "44196      UCAYALI  CORONEL PORTILLO      MANANTAY   FEMENINO  2021      4   \n",
       "44197      UCAYALI  CORONEL PORTILLO      MANANTAY  MASCULINO  2020      6   \n",
       "44198      UCAYALI  CORONEL PORTILLO   YARINACOCHA   FEMENINO  2020      5   \n",
       "44199      UCAYALI  CORONEL PORTILLO   YARINACOCHA   FEMENINO  2020     10   \n",
       "44200      UCAYALI        PADRE ABAD    PADRE ABAD  MASCULINO  2020      5   \n",
       "\n",
       "       Day  contar_fall METODODX  contar_pos  Riesgo_distrito  \n",
       "0       20          1.0       PR         4.0              4.0  \n",
       "1       23          2.0       PR         1.0              4.0  \n",
       "2        3          1.0       PR         1.0              4.0  \n",
       "3        8          1.0       PR         2.0              3.0  \n",
       "4        7          1.0       PR         1.0              2.0  \n",
       "...    ...          ...      ...         ...              ...  \n",
       "44196    8          3.0       AG         1.0              2.0  \n",
       "44197    1          1.0       PR        13.0              2.0  \n",
       "44198    6          5.0       PR         4.0              3.0  \n",
       "44199   11          1.0       PR         2.0              4.0  \n",
       "44200   19          1.0       PR         2.0              1.0  \n",
       "\n",
       "[44201 rows x 11 columns]"
      ]
     },
     "execution_count": 3,
     "metadata": {},
     "output_type": "execute_result"
    }
   ],
   "source": [
    "data"
   ]
  },
  {
   "cell_type": "code",
   "execution_count": 4,
   "id": "34b0c4bf",
   "metadata": {},
   "outputs": [
    {
     "name": "stdout",
     "output_type": "stream",
     "text": [
      "<class 'pandas.core.frame.DataFrame'>\n",
      "RangeIndex: 44201 entries, 0 to 44200\n",
      "Data columns (total 11 columns):\n",
      " #   Column           Non-Null Count  Dtype  \n",
      "---  ------           --------------  -----  \n",
      " 0   DEPARTAMENTO     44201 non-null  object \n",
      " 1   PROVINCIA        44201 non-null  object \n",
      " 2   DISTRITO         44201 non-null  object \n",
      " 3   SEXO             44201 non-null  object \n",
      " 4   Year             44201 non-null  int64  \n",
      " 5   Month            44201 non-null  int64  \n",
      " 6   Day              44201 non-null  int64  \n",
      " 7   contar_fall      44201 non-null  float64\n",
      " 8   METODODX         44201 non-null  object \n",
      " 9   contar_pos       44201 non-null  float64\n",
      " 10  Riesgo_distrito  44201 non-null  float64\n",
      "dtypes: float64(3), int64(3), object(5)\n",
      "memory usage: 3.7+ MB\n"
     ]
    }
   ],
   "source": [
    "data.info()"
   ]
  },
  {
   "cell_type": "markdown",
   "id": "60a23c0f",
   "metadata": {},
   "source": [
    "### Torta para atributo cualitativo nominal con labels "
   ]
  },
  {
   "cell_type": "markdown",
   "id": "146f7e8a",
   "metadata": {},
   "source": [
    "DEPARTAMENTO"
   ]
  },
  {
   "cell_type": "code",
   "execution_count": 5,
   "id": "a5fc257c",
   "metadata": {},
   "outputs": [
    {
     "data": {
      "text/plain": [
       "AREQUIPA         4424\n",
       "PIURA            4204\n",
       "LA LIBERTAD      3575\n",
       "JUNIN            3271\n",
       "ICA              2987\n",
       "LAMBAYEQUE       2967\n",
       "LIMA REGION      2800\n",
       "CALLAO           2623\n",
       "ANCASH           2358\n",
       "CUSCO            2034\n",
       "CAJAMARCA        1577\n",
       "LORETO           1358\n",
       "SAN MARTIN       1266\n",
       "PUNO             1252\n",
       "UCAYALI          1246\n",
       "TACNA            1025\n",
       "HUANUCO           978\n",
       "AYACUCHO          789\n",
       "MOQUEGUA          673\n",
       "APURIMAC          585\n",
       "TUMBES            573\n",
       "AMAZONAS          508\n",
       "PASCO             396\n",
       "MADRE DE DIOS     378\n",
       "HUANCAVELICA      354\n",
       "Name: DEPARTAMENTO, dtype: int64"
      ]
     },
     "execution_count": 5,
     "metadata": {},
     "output_type": "execute_result"
    }
   ],
   "source": [
    "super=pd.value_counts(data['DEPARTAMENTO'])\n",
    "super"
   ]
  },
  {
   "cell_type": "code",
   "execution_count": 6,
   "id": "04134764",
   "metadata": {},
   "outputs": [
    {
     "data": {
      "text/html": [
       "<div>\n",
       "<style scoped>\n",
       "    .dataframe tbody tr th:only-of-type {\n",
       "        vertical-align: middle;\n",
       "    }\n",
       "\n",
       "    .dataframe tbody tr th {\n",
       "        vertical-align: top;\n",
       "    }\n",
       "\n",
       "    .dataframe thead th {\n",
       "        text-align: right;\n",
       "    }\n",
       "</style>\n",
       "<table border=\"1\" class=\"dataframe\">\n",
       "  <thead>\n",
       "    <tr style=\"text-align: right;\">\n",
       "      <th></th>\n",
       "      <th>Frec_abs</th>\n",
       "      <th>Frec_rel_%</th>\n",
       "    </tr>\n",
       "  </thead>\n",
       "  <tbody>\n",
       "    <tr>\n",
       "      <th>AREQUIPA</th>\n",
       "      <td>4424</td>\n",
       "      <td>10.008823</td>\n",
       "    </tr>\n",
       "    <tr>\n",
       "      <th>PIURA</th>\n",
       "      <td>4204</td>\n",
       "      <td>9.511097</td>\n",
       "    </tr>\n",
       "    <tr>\n",
       "      <th>LA LIBERTAD</th>\n",
       "      <td>3575</td>\n",
       "      <td>8.088052</td>\n",
       "    </tr>\n",
       "    <tr>\n",
       "      <th>JUNIN</th>\n",
       "      <td>3271</td>\n",
       "      <td>7.400285</td>\n",
       "    </tr>\n",
       "    <tr>\n",
       "      <th>ICA</th>\n",
       "      <td>2987</td>\n",
       "      <td>6.757766</td>\n",
       "    </tr>\n",
       "    <tr>\n",
       "      <th>LAMBAYEQUE</th>\n",
       "      <td>2967</td>\n",
       "      <td>6.712518</td>\n",
       "    </tr>\n",
       "    <tr>\n",
       "      <th>LIMA REGION</th>\n",
       "      <td>2800</td>\n",
       "      <td>6.334698</td>\n",
       "    </tr>\n",
       "    <tr>\n",
       "      <th>CALLAO</th>\n",
       "      <td>2623</td>\n",
       "      <td>5.934255</td>\n",
       "    </tr>\n",
       "    <tr>\n",
       "      <th>ANCASH</th>\n",
       "      <td>2358</td>\n",
       "      <td>5.334721</td>\n",
       "    </tr>\n",
       "    <tr>\n",
       "      <th>CUSCO</th>\n",
       "      <td>2034</td>\n",
       "      <td>4.601706</td>\n",
       "    </tr>\n",
       "    <tr>\n",
       "      <th>CAJAMARCA</th>\n",
       "      <td>1577</td>\n",
       "      <td>3.567793</td>\n",
       "    </tr>\n",
       "    <tr>\n",
       "      <th>LORETO</th>\n",
       "      <td>1358</td>\n",
       "      <td>3.072329</td>\n",
       "    </tr>\n",
       "    <tr>\n",
       "      <th>SAN MARTIN</th>\n",
       "      <td>1266</td>\n",
       "      <td>2.864189</td>\n",
       "    </tr>\n",
       "    <tr>\n",
       "      <th>PUNO</th>\n",
       "      <td>1252</td>\n",
       "      <td>2.832515</td>\n",
       "    </tr>\n",
       "    <tr>\n",
       "      <th>UCAYALI</th>\n",
       "      <td>1246</td>\n",
       "      <td>2.818941</td>\n",
       "    </tr>\n",
       "    <tr>\n",
       "      <th>TACNA</th>\n",
       "      <td>1025</td>\n",
       "      <td>2.318952</td>\n",
       "    </tr>\n",
       "    <tr>\n",
       "      <th>HUANUCO</th>\n",
       "      <td>978</td>\n",
       "      <td>2.212620</td>\n",
       "    </tr>\n",
       "    <tr>\n",
       "      <th>AYACUCHO</th>\n",
       "      <td>789</td>\n",
       "      <td>1.785027</td>\n",
       "    </tr>\n",
       "    <tr>\n",
       "      <th>MOQUEGUA</th>\n",
       "      <td>673</td>\n",
       "      <td>1.522590</td>\n",
       "    </tr>\n",
       "    <tr>\n",
       "      <th>APURIMAC</th>\n",
       "      <td>585</td>\n",
       "      <td>1.323499</td>\n",
       "    </tr>\n",
       "    <tr>\n",
       "      <th>TUMBES</th>\n",
       "      <td>573</td>\n",
       "      <td>1.296351</td>\n",
       "    </tr>\n",
       "    <tr>\n",
       "      <th>AMAZONAS</th>\n",
       "      <td>508</td>\n",
       "      <td>1.149295</td>\n",
       "    </tr>\n",
       "    <tr>\n",
       "      <th>PASCO</th>\n",
       "      <td>396</td>\n",
       "      <td>0.895907</td>\n",
       "    </tr>\n",
       "    <tr>\n",
       "      <th>MADRE DE DIOS</th>\n",
       "      <td>378</td>\n",
       "      <td>0.855184</td>\n",
       "    </tr>\n",
       "    <tr>\n",
       "      <th>HUANCAVELICA</th>\n",
       "      <td>354</td>\n",
       "      <td>0.800887</td>\n",
       "    </tr>\n",
       "  </tbody>\n",
       "</table>\n",
       "</div>"
      ],
      "text/plain": [
       "               Frec_abs  Frec_rel_%\n",
       "AREQUIPA           4424   10.008823\n",
       "PIURA              4204    9.511097\n",
       "LA LIBERTAD        3575    8.088052\n",
       "JUNIN              3271    7.400285\n",
       "ICA                2987    6.757766\n",
       "LAMBAYEQUE         2967    6.712518\n",
       "LIMA REGION        2800    6.334698\n",
       "CALLAO             2623    5.934255\n",
       "ANCASH             2358    5.334721\n",
       "CUSCO              2034    4.601706\n",
       "CAJAMARCA          1577    3.567793\n",
       "LORETO             1358    3.072329\n",
       "SAN MARTIN         1266    2.864189\n",
       "PUNO               1252    2.832515\n",
       "UCAYALI            1246    2.818941\n",
       "TACNA              1025    2.318952\n",
       "HUANUCO             978    2.212620\n",
       "AYACUCHO            789    1.785027\n",
       "MOQUEGUA            673    1.522590\n",
       "APURIMAC            585    1.323499\n",
       "TUMBES              573    1.296351\n",
       "AMAZONAS            508    1.149295\n",
       "PASCO               396    0.895907\n",
       "MADRE DE DIOS       378    0.855184\n",
       "HUANCAVELICA        354    0.800887"
      ]
     },
     "execution_count": 6,
     "metadata": {},
     "output_type": "execute_result"
    }
   ],
   "source": [
    "super=pd.DataFrame(super)\n",
    "super.columns=[\"Frec_abs\"]\n",
    "super[\"Frec_rel_%\"]=100*super[\"Frec_abs\"]/len(data)\n",
    "valor_ac=0\n",
    "Frec_rel_val=super[\"Frec_rel_%\"].values\n",
    "for i in Frec_rel_val:\n",
    "    valor_ac=valor_ac+i\n",
    "super"
   ]
  },
  {
   "cell_type": "code",
   "execution_count": 7,
   "id": "d7b17b8d",
   "metadata": {},
   "outputs": [],
   "source": [
    "super=pd.value_counts(data['DEPARTAMENTO'])\n",
    "labels = [str(round(x*1.0/super.sum()*100.0,2))+\"%\" for x in super]"
   ]
  },
  {
   "cell_type": "code",
   "execution_count": 8,
   "id": "7e098527",
   "metadata": {},
   "outputs": [],
   "source": [
    "labels[0] =\"AREQUIPA \" + labels[0]\n",
    "labels[1] =\"PIURA \" + labels[1]\n",
    "labels[2] =\"LA LIBERTAD \" + labels[2]\n",
    "labels[3] =\"JUNIN \" + labels[3]\n",
    "labels[4] =\"ICA \" + labels[4]\n",
    "labels[5] =\"LAMBAYEQUE \" + labels[5]\n",
    "labels[6] =\"LIMA REGION \" + labels[6]\n",
    "labels[7] =\"CALLAO \" + labels[7]\n",
    "labels[8] =\"ANCASH \" + labels[8]\n",
    "labels[9] =\"CUZCO \" + labels[9]\n",
    "labels[10] =\"CAJAMARCA \" + labels[10]\n",
    "labels[11] =\"LORETO \" + labels[11]\n",
    "labels[12] =\"SAN MARTIN \" + labels[12]\n",
    "labels[13] =\"PUNO \" + labels[13]\n",
    "labels[14] =\"UCAYALI \" + labels[14]\n",
    "labels[15] =\"TACNA \" + labels[15]\n",
    "labels[16] =\"HUANUCO \" + labels[16]\n",
    "labels[17] =\"AYACUCHO\" + labels[17]\n",
    "labels[18] =\"MOQUEGUA \" + labels[18]\n",
    "labels[19] =\"APURIMAC \" + labels[19]\n",
    "labels[20] =\"TUMBES \" + labels[20]\n",
    "labels[21] =\"AMAZONAS \" + labels[21]\n",
    "labels[22] =\"PASCO \" + labels[22]\n",
    "labels[23] =\"MADRE DE DIOS \" + labels[23]\n",
    "labels[24] =\"HUANCAVELICA \" + labels[24]"
   ]
  },
  {
   "cell_type": "code",
   "execution_count": 9,
   "id": "1c519658",
   "metadata": {},
   "outputs": [
    {
     "data": {
      "image/png": "[encoded data removed]",
      "text/plain": [
       "<Figure size 720x864 with 1 Axes>"
      ]
     },
     "metadata": {},
     "output_type": "display_data"
    }
   ],
   "source": [
    "plt.figure(figsize=(10,12)) \n",
    "plt.pie(super, labels=labels)\n",
    "plt.title(\"Departamento\")\n",
    "plt.show()"
   ]
  },
  {
   "cell_type": "markdown",
   "id": "4c1b7f69",
   "metadata": {},
   "source": [
    "Metodo DX"
   ]
  },
  {
   "cell_type": "code",
   "execution_count": 10,
   "id": "2lPSUIHKENCb",
   "metadata": {
    "colab": {
     "base_uri": "https://localhost:8080/"
    },
    "id": "2lPSUIHKENCb",
    "outputId": "2075f6be-86e1-4e74-f55d-8d70861689e3"
   },
   "outputs": [
    {
     "data": {
      "text/plain": [
       "PR    35277\n",
       "AG     8924\n",
       "Name: METODODX, dtype: int64"
      ]
     },
     "execution_count": 10,
     "metadata": {},
     "output_type": "execute_result"
    }
   ],
   "source": [
    "super=pd.value_counts(data['METODODX'])\n",
    "super"
   ]
  },
  {
   "cell_type": "code",
   "execution_count": 11,
   "id": "3MGUXdpEESTo",
   "metadata": {
    "colab": {
     "base_uri": "https://localhost:8080/",
     "height": 237
    },
    "id": "3MGUXdpEESTo",
    "outputId": "ebb94970-724f-4a6b-82e9-f03025dc637e"
   },
   "outputs": [
    {
     "data": {
      "text/html": [
       "<div>\n",
       "<style scoped>\n",
       "    .dataframe tbody tr th:only-of-type {\n",
       "        vertical-align: middle;\n",
       "    }\n",
       "\n",
       "    .dataframe tbody tr th {\n",
       "        vertical-align: top;\n",
       "    }\n",
       "\n",
       "    .dataframe thead th {\n",
       "        text-align: right;\n",
       "    }\n",
       "</style>\n",
       "<table border=\"1\" class=\"dataframe\">\n",
       "  <thead>\n",
       "    <tr style=\"text-align: right;\">\n",
       "      <th></th>\n",
       "      <th>Frec_abs</th>\n",
       "      <th>Frec_rel_%</th>\n",
       "    </tr>\n",
       "  </thead>\n",
       "  <tbody>\n",
       "    <tr>\n",
       "      <th>PR</th>\n",
       "      <td>35277</td>\n",
       "      <td>79.810412</td>\n",
       "    </tr>\n",
       "    <tr>\n",
       "      <th>AG</th>\n",
       "      <td>8924</td>\n",
       "      <td>20.189588</td>\n",
       "    </tr>\n",
       "  </tbody>\n",
       "</table>\n",
       "</div>"
      ],
      "text/plain": [
       "    Frec_abs  Frec_rel_%\n",
       "PR     35277   79.810412\n",
       "AG      8924   20.189588"
      ]
     },
     "execution_count": 11,
     "metadata": {},
     "output_type": "execute_result"
    }
   ],
   "source": [
    "super=pd.DataFrame(super)\n",
    "super.columns=[\"Frec_abs\"]\n",
    "super[\"Frec_rel_%\"]=100*super[\"Frec_abs\"]/len(data)\n",
    "valor_ac=0\n",
    "Frec_rel_val=super[\"Frec_rel_%\"].values\n",
    "for i in Frec_rel_val:\n",
    "    valor_ac=valor_ac+i\n",
    "super"
   ]
  },
  {
   "cell_type": "code",
   "execution_count": 12,
   "id": "_bLOCU_cEcbM",
   "metadata": {
    "colab": {
     "base_uri": "https://localhost:8080/",
     "height": 282
    },
    "id": "_bLOCU_cEcbM",
    "outputId": "e414c480-52ae-4979-bc83-742daadd360c"
   },
   "outputs": [
    {
     "data": {
      "text/plain": [
       "<AxesSubplot:title={'center':'Método de Diagnóstico'}, ylabel='Frec_rel_%'>"
      ]
     },
     "execution_count": 12,
     "metadata": {},
     "output_type": "execute_result"
    },
    {
     "data": {
      "image/png": "[encoded data removed]",
      "text/plain": [
       "<Figure size 432x288 with 1 Axes>"
      ]
     },
     "metadata": {},
     "output_type": "display_data"
    }
   ],
   "source": [
    "super['Frec_rel_%'].plot(kind='pie',labels = ['PR', 'AG'],autopct='%.2f', title='Método de Diagnóstico')"
   ]
  },
  {
   "cell_type": "code",
   "execution_count": 13,
   "id": "q7rqHyLdE266",
   "metadata": {
    "colab": {
     "base_uri": "https://localhost:8080/",
     "height": 264
    },
    "id": "q7rqHyLdE266",
    "outputId": "ca9f46c5-72f3-4b61-f9ab-99623eea9834"
   },
   "outputs": [
    {
     "data": {
      "image/png": "[encoded data removed]",
      "text/plain": [
       "<Figure size 432x288 with 1 Axes>"
      ]
     },
     "metadata": {},
     "output_type": "display_data"
    }
   ],
   "source": [
    "labels = ['PR', 'AG']\n",
    "explode = [0.1,0.1]###diferencia del resto\n",
    "colors = sns.color_palette('pastel')\n",
    "plt.pie(super['Frec_rel_%'], labels=labels,colors = colors, autopct = '%0.0f%%',explode = explode)\n",
    "plt.show()"
   ]
  },
  {
   "cell_type": "markdown",
   "id": "e644cfe5",
   "metadata": {},
   "source": [
    "SEXO"
   ]
  },
  {
   "cell_type": "code",
   "execution_count": 14,
   "id": "23cc5391",
   "metadata": {},
   "outputs": [
    {
     "data": {
      "text/plain": [
       "MASCULINO    23504\n",
       "FEMENINO     20697\n",
       "Name: SEXO, dtype: int64"
      ]
     },
     "execution_count": 14,
     "metadata": {},
     "output_type": "execute_result"
    }
   ],
   "source": [
    "super=pd.value_counts(data['SEXO'])\n",
    "super"
   ]
  },
  {
   "cell_type": "code",
   "execution_count": 15,
   "id": "5362070b",
   "metadata": {},
   "outputs": [
    {
     "data": {
      "text/html": [
       "<div>\n",
       "<style scoped>\n",
       "    .dataframe tbody tr th:only-of-type {\n",
       "        vertical-align: middle;\n",
       "    }\n",
       "\n",
       "    .dataframe tbody tr th {\n",
       "        vertical-align: top;\n",
       "    }\n",
       "\n",
       "    .dataframe thead th {\n",
       "        text-align: right;\n",
       "    }\n",
       "</style>\n",
       "<table border=\"1\" class=\"dataframe\">\n",
       "  <thead>\n",
       "    <tr style=\"text-align: right;\">\n",
       "      <th></th>\n",
       "      <th>Frec_abs</th>\n",
       "      <th>Frec_rel_%</th>\n",
       "    </tr>\n",
       "  </thead>\n",
       "  <tbody>\n",
       "    <tr>\n",
       "      <th>MASCULINO</th>\n",
       "      <td>23504</td>\n",
       "      <td>53.175268</td>\n",
       "    </tr>\n",
       "    <tr>\n",
       "      <th>FEMENINO</th>\n",
       "      <td>20697</td>\n",
       "      <td>46.824732</td>\n",
       "    </tr>\n",
       "  </tbody>\n",
       "</table>\n",
       "</div>"
      ],
      "text/plain": [
       "           Frec_abs  Frec_rel_%\n",
       "MASCULINO     23504   53.175268\n",
       "FEMENINO      20697   46.824732"
      ]
     },
     "execution_count": 15,
     "metadata": {},
     "output_type": "execute_result"
    }
   ],
   "source": [
    "super=pd.DataFrame(super)\n",
    "super.columns=[\"Frec_abs\"]\n",
    "super[\"Frec_rel_%\"]=100*super[\"Frec_abs\"]/len(data)\n",
    "valor_ac=0\n",
    "Frec_rel_val=super[\"Frec_rel_%\"].values\n",
    "for i in Frec_rel_val:\n",
    "    valor_ac=valor_ac+i\n",
    "super"
   ]
  },
  {
   "cell_type": "code",
   "execution_count": 16,
   "id": "60fca72c",
   "metadata": {},
   "outputs": [
    {
     "data": {
      "text/plain": [
       "<AxesSubplot:title={'center':'Género de Fallecidos por COVID19'}, ylabel='Frec_rel_%'>"
      ]
     },
     "execution_count": 16,
     "metadata": {},
     "output_type": "execute_result"
    },
    {
     "data": {
      "image/png": "[encoded data removed]",
      "text/plain": [
       "<Figure size 432x288 with 1 Axes>"
      ]
     },
     "metadata": {},
     "output_type": "display_data"
    }
   ],
   "source": [
    "super['Frec_rel_%'].plot(kind='pie',labels = ['Masculino', 'Femenino'],autopct='%.2f', title='Género de Fallecidos por COVID19')"
   ]
  },
  {
   "cell_type": "code",
   "execution_count": 17,
   "id": "187f3f06",
   "metadata": {},
   "outputs": [
    {
     "data": {
      "image/png": "[encoded data removed]",
      "text/plain": [
       "<Figure size 432x288 with 1 Axes>"
      ]
     },
     "metadata": {},
     "output_type": "display_data"
    }
   ],
   "source": [
    "labels = ['Masculino', 'Femenino']\n",
    "explode = [0.1,0.1]###diferencia del resto\n",
    "colors = sns.color_palette('pastel')\n",
    "plt.pie(super['Frec_rel_%'], labels=labels,colors = colors, autopct = '%0.0f%%',explode = explode)\n",
    "plt.show()"
   ]
  },
  {
   "cell_type": "markdown",
   "id": "213945ac",
   "metadata": {
    "id": "z-0NluNtFN-D"
   },
   "source": [
    "### Gráficos para atributo cualitativo ordinal"
   ]
  },
  {
   "cell_type": "code",
   "execution_count": 18,
   "id": "BIm-5TYayxQl",
   "metadata": {
    "colab": {
     "base_uri": "https://localhost:8080/"
    },
    "id": "BIm-5TYayxQl",
    "outputId": "a9344caa-2307-4e1b-da4f-8fd124885871"
   },
   "outputs": [
    {
     "data": {
      "text/plain": [
       "2.0    11159\n",
       "1.0    11120\n",
       "4.0    11004\n",
       "3.0    10918\n",
       "Name: Riesgo_distrito, dtype: int64"
      ]
     },
     "execution_count": 18,
     "metadata": {},
     "output_type": "execute_result"
    }
   ],
   "source": [
    "super=pd.value_counts(data['Riesgo_distrito'])\n",
    "super"
   ]
  },
  {
   "cell_type": "code",
   "execution_count": 19,
   "id": "leBDXotJ0N7o",
   "metadata": {
    "colab": {
     "base_uri": "https://localhost:8080/",
     "height": 175
    },
    "id": "leBDXotJ0N7o",
    "outputId": "0258e755-2d46-4962-8780-694dec5ea157"
   },
   "outputs": [
    {
     "data": {
      "text/html": [
       "<div>\n",
       "<style scoped>\n",
       "    .dataframe tbody tr th:only-of-type {\n",
       "        vertical-align: middle;\n",
       "    }\n",
       "\n",
       "    .dataframe tbody tr th {\n",
       "        vertical-align: top;\n",
       "    }\n",
       "\n",
       "    .dataframe thead th {\n",
       "        text-align: right;\n",
       "    }\n",
       "</style>\n",
       "<table border=\"1\" class=\"dataframe\">\n",
       "  <thead>\n",
       "    <tr style=\"text-align: right;\">\n",
       "      <th></th>\n",
       "      <th>Frec_abs</th>\n",
       "      <th>Frec_rel_%</th>\n",
       "      <th>Frec_rel_%_acum</th>\n",
       "    </tr>\n",
       "  </thead>\n",
       "  <tbody>\n",
       "    <tr>\n",
       "      <th>2.0</th>\n",
       "      <td>11159</td>\n",
       "      <td>25.246035</td>\n",
       "      <td>25.246035</td>\n",
       "    </tr>\n",
       "    <tr>\n",
       "      <th>1.0</th>\n",
       "      <td>11120</td>\n",
       "      <td>25.157802</td>\n",
       "      <td>50.403837</td>\n",
       "    </tr>\n",
       "    <tr>\n",
       "      <th>4.0</th>\n",
       "      <td>11004</td>\n",
       "      <td>24.895364</td>\n",
       "      <td>75.299201</td>\n",
       "    </tr>\n",
       "    <tr>\n",
       "      <th>3.0</th>\n",
       "      <td>10918</td>\n",
       "      <td>24.700799</td>\n",
       "      <td>100.000000</td>\n",
       "    </tr>\n",
       "  </tbody>\n",
       "</table>\n",
       "</div>"
      ],
      "text/plain": [
       "     Frec_abs  Frec_rel_%  Frec_rel_%_acum\n",
       "2.0     11159   25.246035        25.246035\n",
       "1.0     11120   25.157802        50.403837\n",
       "4.0     11004   24.895364        75.299201\n",
       "3.0     10918   24.700799       100.000000"
      ]
     },
     "execution_count": 19,
     "metadata": {},
     "output_type": "execute_result"
    }
   ],
   "source": [
    "super=pd.DataFrame(super)\n",
    "super.columns=[\"Frec_abs\"]\n",
    "super[\"Frec_rel_%\"]=100*super[\"Frec_abs\"]/len(data)\n",
    "valor_ac=0\n",
    "Frec_rel_val=super[\"Frec_rel_%\"].values\n",
    "acum=[]\n",
    "for i in Frec_rel_val:\n",
    "    valor_ac=valor_ac+i\n",
    "    acum.append(valor_ac)\n",
    "\n",
    "super[\"Frec_rel_%_acum\"]= acum\n",
    "super\n"
   ]
  },
  {
   "cell_type": "code",
   "execution_count": 20,
   "id": "wrMEPVz10WZm",
   "metadata": {
    "colab": {
     "base_uri": "https://localhost:8080/",
     "height": 551
    },
    "id": "wrMEPVz10WZm",
    "outputId": "1016b741-953d-45c5-f02a-fdb82cd91f0f"
   },
   "outputs": [
    {
     "data": {
      "image/png": "[encoded data removed]",
      "text/plain": [
       "<Figure size 864x576 with 1 Axes>"
      ]
     },
     "metadata": {
      "needs_background": "light"
     },
     "output_type": "display_data"
    }
   ],
   "source": [
    "# Bring some raw data.\n",
    "frequencies = super['Frec_rel_%']\n",
    "\n",
    "# In my original code I create a series and run on that,\n",
    "# so for consistency I create a series from the list.\n",
    "freq_series = pd.Series(frequencies)\n",
    "\n",
    "x_labels = ['Alto', 'Medio', 'Muy alto', 'Bajo']\n",
    "\n",
    "# Plot the figure.\n",
    "plt.figure(figsize=(12, 8))\n",
    "ax = freq_series.plot(kind='bar')\n",
    "ax.set_title('Frecuencia del Riesgo de distritos por contagio Covid-19')\n",
    "ax.set_xlabel('Nivel de Riesgo')\n",
    "ax.set_ylabel('Frecuencia')\n",
    "ax.set_xticklabels(x_labels)\n",
    "\n",
    "\n",
    "def add_value_labels(ax, spacing=5):\n",
    "    \"\"\"Add labels to the end of each bar in a bar chart.\n",
    "\n",
    "    Arguments:\n",
    "        ax (matplotlib.axes.Axes): The matplotlib object containing the axes\n",
    "            of the plot to annotate.\n",
    "        spacing (int): The distance between the labels and the bars.\n",
    "    \"\"\"\n",
    "\n",
    "    # For each bar: Place a label\n",
    "    for rect in ax.patches:\n",
    "        # Get X and Y placement of label from rect.\n",
    "        y_value = rect.get_height()\n",
    "        x_value = rect.get_x() + rect.get_width() / 2\n",
    "\n",
    "        # Number of points between bar and label. Change to your liking.\n",
    "        space = spacing\n",
    "        # Vertical alignment for positive values\n",
    "        va = 'bottom'\n",
    "\n",
    "        # If value of bar is negative: Place label below bar\n",
    "        if y_value < 0:\n",
    "            # Invert space to place label below\n",
    "            space *= -1\n",
    "            # Vertically align label at top\n",
    "            va = 'top'\n",
    "\n",
    "        # Use Y value as label and format number with one decimal place\n",
    "        label = \"{:.1f}\".format(y_value)\n",
    "\n",
    "        # Create annotation\n",
    "        ax.annotate(\n",
    "            label,                      # Use `label` as label\n",
    "            (x_value, y_value),         # Place label at end of the bar\n",
    "            xytext=(0, space),          # Vertically shift label by `space`\n",
    "            textcoords=\"offset points\", # Interpret `xytext` as offset in points\n",
    "            ha='center',                # Horizontally center label\n",
    "            va=va)                      # Vertically align label differently for\n",
    "                                        # positive and negative values.\n",
    "\n",
    "\n",
    "# Call the function above. All the magic happens there.\n",
    "add_value_labels(ax)\n",
    "\n",
    "plt.savefig(\"image.png\")"
   ]
  },
  {
   "cell_type": "markdown",
   "id": "d1f56c69",
   "metadata": {},
   "source": [
    "### Variables cuantitativas"
   ]
  },
  {
   "cell_type": "code",
   "execution_count": 21,
   "id": "4f7a7dc4",
   "metadata": {},
   "outputs": [
    {
     "data": {
      "text/plain": [
       "<AxesSubplot:>"
      ]
     },
     "execution_count": 21,
     "metadata": {},
     "output_type": "execute_result"
    },
    {
     "data": {
      "image/png": "[encoded data removed]",
      "text/plain": [
       "<Figure size 432x288 with 1 Axes>"
      ]
     },
     "metadata": {
      "needs_background": "light"
     },
     "output_type": "display_data"
    }
   ],
   "source": [
    "data['contar_pos'].hist()"
   ]
  },
  {
   "cell_type": "code",
   "execution_count": 22,
   "id": "d_dmR8vC6f3L",
   "metadata": {
    "colab": {
     "base_uri": "https://localhost:8080/",
     "height": 283
    },
    "id": "d_dmR8vC6f3L",
    "outputId": "9c45c1e7-a243-4c03-afd8-d3e87feea41e"
   },
   "outputs": [
    {
     "data": {
      "text/plain": [
       "<AxesSubplot:>"
      ]
     },
     "execution_count": 22,
     "metadata": {},
     "output_type": "execute_result"
    },
    {
     "data": {
      "image/png": "[encoded data removed]",
      "text/plain": [
       "<Figure size 432x288 with 1 Axes>"
      ]
     },
     "metadata": {
      "needs_background": "light"
     },
     "output_type": "display_data"
    }
   ],
   "source": [
    "data['contar_fall'].hist()"
   ]
  },
  {
   "cell_type": "markdown",
   "id": "b4deb71c",
   "metadata": {},
   "source": [
    "### EXPLORATORIO"
   ]
  },
  {
   "cell_type": "code",
   "execution_count": 23,
   "id": "37b1c1e8",
   "metadata": {
    "colab": {
     "base_uri": "https://localhost:8080/",
     "height": 297
    },
    "id": "37b1c1e8",
    "outputId": "aac204da-e1e7-4557-b57d-0cef21c0a6d0"
   },
   "outputs": [
    {
     "data": {
      "image/png": "[encoded data removed]",
      "text/plain": [
       "<Figure size 864x1800 with 1 Axes>"
      ]
     },
     "metadata": {
      "needs_background": "light"
     },
     "output_type": "display_data"
    }
   ],
   "source": [
    "p = plt.subplots(figsize = (12,25))\n",
    "P = sns.countplot(y=\"DEPARTAMENTO\", hue=\"Riesgo_distrito\",data=data,palette='Set2')"
   ]
  },
  {
   "cell_type": "code",
   "execution_count": 24,
   "id": "vPgv16iH0WfM",
   "metadata": {
    "colab": {
     "base_uri": "https://localhost:8080/",
     "height": 297
    },
    "id": "vPgv16iH0WfM",
    "outputId": "f5c91b66-ac45-40e1-e657-1b8a0dd1d7c4"
   },
   "outputs": [
    {
     "data": {
      "image/png": "[encoded data removed]",
      "text/plain": [
       "<Figure size 864x864 with 1 Axes>"
      ]
     },
     "metadata": {},
     "output_type": "display_data"
    }
   ],
   "source": [
    "sns.set_theme(style=\"whitegrid\")\n",
    "p = plt.subplots(figsize = (12,12))\n",
    "p = sns.countplot(x=\"contar_fall\", hue=\"SEXO\",data=data,palette='Set3')"
   ]
  },
  {
   "cell_type": "code",
   "execution_count": 25,
   "id": "BIfMnjdo18MG",
   "metadata": {
    "colab": {
     "base_uri": "https://localhost:8080/",
     "height": 297
    },
    "id": "BIfMnjdo18MG",
    "outputId": "91d8c800-7c9d-469b-ee37-65b32e7d3d6a"
   },
   "outputs": [
    {
     "data": {
      "image/png": "[encoded data removed]",
      "text/plain": [
       "<Figure size 680.975x288 with 2 Axes>"
      ]
     },
     "metadata": {},
     "output_type": "display_data"
    }
   ],
   "source": [
    "sns.catplot(x=\"Year\", hue=\"SEXO\", col=\"METODODX\",data=data, kind=\"count\",height=4, aspect=1);"
   ]
  },
  {
   "cell_type": "code",
   "execution_count": 26,
   "id": "5f264442",
   "metadata": {},
   "outputs": [
    {
     "data": {
      "text/html": [
       "<div>\n",
       "<style scoped>\n",
       "    .dataframe tbody tr th:only-of-type {\n",
       "        vertical-align: middle;\n",
       "    }\n",
       "\n",
       "    .dataframe tbody tr th {\n",
       "        vertical-align: top;\n",
       "    }\n",
       "\n",
       "    .dataframe thead th {\n",
       "        text-align: right;\n",
       "    }\n",
       "</style>\n",
       "<table border=\"1\" class=\"dataframe\">\n",
       "  <thead>\n",
       "    <tr style=\"text-align: right;\">\n",
       "      <th></th>\n",
       "      <th>DEPARTAMENTO</th>\n",
       "      <th>PROVINCIA</th>\n",
       "      <th>DISTRITO</th>\n",
       "      <th>SEXO</th>\n",
       "      <th>Year</th>\n",
       "      <th>Month</th>\n",
       "      <th>Day</th>\n",
       "      <th>contar_fall</th>\n",
       "      <th>METODODX</th>\n",
       "      <th>contar_pos</th>\n",
       "      <th>Riesgo_distrito</th>\n",
       "    </tr>\n",
       "  </thead>\n",
       "  <tbody>\n",
       "    <tr>\n",
       "      <th>0</th>\n",
       "      <td>AMAZONAS</td>\n",
       "      <td>BAGUA</td>\n",
       "      <td>BAGUA</td>\n",
       "      <td>FEMENINO</td>\n",
       "      <td>2020</td>\n",
       "      <td>7</td>\n",
       "      <td>20</td>\n",
       "      <td>1.0</td>\n",
       "      <td>PR</td>\n",
       "      <td>4.0</td>\n",
       "      <td>4.0</td>\n",
       "    </tr>\n",
       "    <tr>\n",
       "      <th>1</th>\n",
       "      <td>AMAZONAS</td>\n",
       "      <td>BAGUA</td>\n",
       "      <td>BAGUA</td>\n",
       "      <td>MASCULINO</td>\n",
       "      <td>2021</td>\n",
       "      <td>4</td>\n",
       "      <td>23</td>\n",
       "      <td>2.0</td>\n",
       "      <td>PR</td>\n",
       "      <td>1.0</td>\n",
       "      <td>4.0</td>\n",
       "    </tr>\n",
       "    <tr>\n",
       "      <th>2</th>\n",
       "      <td>AMAZONAS</td>\n",
       "      <td>UTCUBAMBA</td>\n",
       "      <td>BAGUA GRANDE</td>\n",
       "      <td>MASCULINO</td>\n",
       "      <td>2021</td>\n",
       "      <td>2</td>\n",
       "      <td>3</td>\n",
       "      <td>1.0</td>\n",
       "      <td>PR</td>\n",
       "      <td>1.0</td>\n",
       "      <td>4.0</td>\n",
       "    </tr>\n",
       "    <tr>\n",
       "      <th>3</th>\n",
       "      <td>ANCASH</td>\n",
       "      <td>CASMA</td>\n",
       "      <td>CASMA</td>\n",
       "      <td>MASCULINO</td>\n",
       "      <td>2020</td>\n",
       "      <td>5</td>\n",
       "      <td>8</td>\n",
       "      <td>1.0</td>\n",
       "      <td>PR</td>\n",
       "      <td>2.0</td>\n",
       "      <td>3.0</td>\n",
       "    </tr>\n",
       "    <tr>\n",
       "      <th>4</th>\n",
       "      <td>ANCASH</td>\n",
       "      <td>CASMA</td>\n",
       "      <td>CASMA</td>\n",
       "      <td>MASCULINO</td>\n",
       "      <td>2021</td>\n",
       "      <td>4</td>\n",
       "      <td>7</td>\n",
       "      <td>1.0</td>\n",
       "      <td>PR</td>\n",
       "      <td>1.0</td>\n",
       "      <td>2.0</td>\n",
       "    </tr>\n",
       "    <tr>\n",
       "      <th>...</th>\n",
       "      <td>...</td>\n",
       "      <td>...</td>\n",
       "      <td>...</td>\n",
       "      <td>...</td>\n",
       "      <td>...</td>\n",
       "      <td>...</td>\n",
       "      <td>...</td>\n",
       "      <td>...</td>\n",
       "      <td>...</td>\n",
       "      <td>...</td>\n",
       "      <td>...</td>\n",
       "    </tr>\n",
       "    <tr>\n",
       "      <th>44196</th>\n",
       "      <td>UCAYALI</td>\n",
       "      <td>CORONEL PORTILLO</td>\n",
       "      <td>MANANTAY</td>\n",
       "      <td>FEMENINO</td>\n",
       "      <td>2021</td>\n",
       "      <td>4</td>\n",
       "      <td>8</td>\n",
       "      <td>3.0</td>\n",
       "      <td>AG</td>\n",
       "      <td>1.0</td>\n",
       "      <td>2.0</td>\n",
       "    </tr>\n",
       "    <tr>\n",
       "      <th>44197</th>\n",
       "      <td>UCAYALI</td>\n",
       "      <td>CORONEL PORTILLO</td>\n",
       "      <td>MANANTAY</td>\n",
       "      <td>MASCULINO</td>\n",
       "      <td>2020</td>\n",
       "      <td>6</td>\n",
       "      <td>1</td>\n",
       "      <td>1.0</td>\n",
       "      <td>PR</td>\n",
       "      <td>13.0</td>\n",
       "      <td>2.0</td>\n",
       "    </tr>\n",
       "    <tr>\n",
       "      <th>44198</th>\n",
       "      <td>UCAYALI</td>\n",
       "      <td>CORONEL PORTILLO</td>\n",
       "      <td>YARINACOCHA</td>\n",
       "      <td>FEMENINO</td>\n",
       "      <td>2020</td>\n",
       "      <td>5</td>\n",
       "      <td>6</td>\n",
       "      <td>5.0</td>\n",
       "      <td>PR</td>\n",
       "      <td>4.0</td>\n",
       "      <td>3.0</td>\n",
       "    </tr>\n",
       "    <tr>\n",
       "      <th>44199</th>\n",
       "      <td>UCAYALI</td>\n",
       "      <td>CORONEL PORTILLO</td>\n",
       "      <td>YARINACOCHA</td>\n",
       "      <td>FEMENINO</td>\n",
       "      <td>2020</td>\n",
       "      <td>10</td>\n",
       "      <td>11</td>\n",
       "      <td>1.0</td>\n",
       "      <td>PR</td>\n",
       "      <td>2.0</td>\n",
       "      <td>4.0</td>\n",
       "    </tr>\n",
       "    <tr>\n",
       "      <th>44200</th>\n",
       "      <td>UCAYALI</td>\n",
       "      <td>PADRE ABAD</td>\n",
       "      <td>PADRE ABAD</td>\n",
       "      <td>MASCULINO</td>\n",
       "      <td>2020</td>\n",
       "      <td>5</td>\n",
       "      <td>19</td>\n",
       "      <td>1.0</td>\n",
       "      <td>PR</td>\n",
       "      <td>2.0</td>\n",
       "      <td>1.0</td>\n",
       "    </tr>\n",
       "  </tbody>\n",
       "</table>\n",
       "<p>44201 rows × 11 columns</p>\n",
       "</div>"
      ],
      "text/plain": [
       "      DEPARTAMENTO         PROVINCIA      DISTRITO       SEXO  Year  Month  \\\n",
       "0         AMAZONAS             BAGUA         BAGUA   FEMENINO  2020      7   \n",
       "1         AMAZONAS             BAGUA         BAGUA  MASCULINO  2021      4   \n",
       "2         AMAZONAS         UTCUBAMBA  BAGUA GRANDE  MASCULINO  2021      2   \n",
       "3           ANCASH             CASMA         CASMA  MASCULINO  2020      5   \n",
       "4           ANCASH             CASMA         CASMA  MASCULINO  2021      4   \n",
       "...            ...               ...           ...        ...   ...    ...   \n",
       "44196      UCAYALI  CORONEL PORTILLO      MANANTAY   FEMENINO  2021      4   \n",
       "44197      UCAYALI  CORONEL PORTILLO      MANANTAY  MASCULINO  2020      6   \n",
       "44198      UCAYALI  CORONEL PORTILLO   YARINACOCHA   FEMENINO  2020      5   \n",
       "44199      UCAYALI  CORONEL PORTILLO   YARINACOCHA   FEMENINO  2020     10   \n",
       "44200      UCAYALI        PADRE ABAD    PADRE ABAD  MASCULINO  2020      5   \n",
       "\n",
       "       Day  contar_fall METODODX  contar_pos  Riesgo_distrito  \n",
       "0       20          1.0       PR         4.0              4.0  \n",
       "1       23          2.0       PR         1.0              4.0  \n",
       "2        3          1.0       PR         1.0              4.0  \n",
       "3        8          1.0       PR         2.0              3.0  \n",
       "4        7          1.0       PR         1.0              2.0  \n",
       "...    ...          ...      ...         ...              ...  \n",
       "44196    8          3.0       AG         1.0              2.0  \n",
       "44197    1          1.0       PR        13.0              2.0  \n",
       "44198    6          5.0       PR         4.0              3.0  \n",
       "44199   11          1.0       PR         2.0              4.0  \n",
       "44200   19          1.0       PR         2.0              1.0  \n",
       "\n",
       "[44201 rows x 11 columns]"
      ]
     },
     "execution_count": 26,
     "metadata": {},
     "output_type": "execute_result"
    }
   ],
   "source": [
    "data"
   ]
  },
  {
   "cell_type": "code",
   "execution_count": 27,
   "id": "bSVQJNLZhg2T",
   "metadata": {
    "colab": {
     "base_uri": "https://localhost:8080/",
     "height": 624
    },
    "id": "bSVQJNLZhg2T",
    "outputId": "46d11590-ff5d-4bf1-c4fc-6ddd2070de2d"
   },
   "outputs": [
    {
     "data": {
      "text/plain": [
       "<AxesSubplot:xlabel='Month', ylabel='METODODX'>"
      ]
     },
     "execution_count": 27,
     "metadata": {},
     "output_type": "execute_result"
    },
    {
     "data": {
      "image/png": "[encoded data removed]",
      "text/plain": [
       "<Figure size 432x288 with 1 Axes>"
      ]
     },
     "metadata": {},
     "output_type": "display_data"
    }
   ],
   "source": [
    "sns.boxplot(x = 'Month', y = 'METODODX', data = data)"
   ]
  },
  {
   "cell_type": "code",
   "execution_count": 28,
   "id": "036d26a6",
   "metadata": {
    "colab": {
     "base_uri": "https://localhost:8080/",
     "height": 588
    },
    "id": "qybHf0YShsnh",
    "outputId": "413899f8-46fb-4572-b0e3-2a466625c7ec"
   },
   "outputs": [
    {
     "data": {
      "text/plain": [
       "<AxesSubplot:xlabel='contar_pos', ylabel='DEPARTAMENTO'>"
      ]
     },
     "execution_count": 28,
     "metadata": {},
     "output_type": "execute_result"
    },
    {
     "data": {
      "image/png": "[encoded data removed]",
      "text/plain": [
       "<Figure size 1080x720 with 1 Axes>"
      ]
     },
     "metadata": {},
     "output_type": "display_data"
    }
   ],
   "source": [
    "plt.figure(figsize=(15, 10))\n",
    "sns.boxplot(x = 'contar_pos', y = 'DEPARTAMENTO', data = data)"
   ]
  },
  {
   "cell_type": "markdown",
   "id": "0536f8fd",
   "metadata": {},
   "source": [
    "## Paso 2"
   ]
  },
  {
   "cell_type": "code",
   "execution_count": 29,
   "id": "64dbb516",
   "metadata": {},
   "outputs": [
    {
     "name": "stdout",
     "output_type": "stream",
     "text": [
      "<class 'pandas.core.frame.DataFrame'>\n",
      "RangeIndex: 44201 entries, 0 to 44200\n",
      "Data columns (total 11 columns):\n",
      " #   Column           Non-Null Count  Dtype  \n",
      "---  ------           --------------  -----  \n",
      " 0   DEPARTAMENTO     44201 non-null  object \n",
      " 1   PROVINCIA        44201 non-null  object \n",
      " 2   DISTRITO         44201 non-null  object \n",
      " 3   SEXO             44201 non-null  object \n",
      " 4   Year             44201 non-null  int64  \n",
      " 5   Month            44201 non-null  int64  \n",
      " 6   Day              44201 non-null  int64  \n",
      " 7   contar_fall      44201 non-null  float64\n",
      " 8   METODODX         44201 non-null  object \n",
      " 9   contar_pos       44201 non-null  float64\n",
      " 10  Riesgo_distrito  44201 non-null  float64\n",
      "dtypes: float64(3), int64(3), object(5)\n",
      "memory usage: 3.7+ MB\n"
     ]
    }
   ],
   "source": [
    "data.info()"
   ]
  },
  {
   "cell_type": "code",
   "execution_count": 30,
   "id": "49046b19",
   "metadata": {},
   "outputs": [
    {
     "name": "stdout",
     "output_type": "stream",
     "text": [
      "{'SEXO': {'FEMENINO': 0, 'MASCULINO': 1}}\n"
     ]
    },
    {
     "data": {
      "text/html": [
       "<div>\n",
       "<style scoped>\n",
       "    .dataframe tbody tr th:only-of-type {\n",
       "        vertical-align: middle;\n",
       "    }\n",
       "\n",
       "    .dataframe tbody tr th {\n",
       "        vertical-align: top;\n",
       "    }\n",
       "\n",
       "    .dataframe thead th {\n",
       "        text-align: right;\n",
       "    }\n",
       "</style>\n",
       "<table border=\"1\" class=\"dataframe\">\n",
       "  <thead>\n",
       "    <tr style=\"text-align: right;\">\n",
       "      <th></th>\n",
       "      <th>DEPARTAMENTO</th>\n",
       "      <th>PROVINCIA</th>\n",
       "      <th>DISTRITO</th>\n",
       "      <th>SEXO</th>\n",
       "      <th>Year</th>\n",
       "      <th>Month</th>\n",
       "      <th>Day</th>\n",
       "      <th>contar_fall</th>\n",
       "      <th>METODODX</th>\n",
       "      <th>contar_pos</th>\n",
       "      <th>Riesgo_distrito</th>\n",
       "    </tr>\n",
       "  </thead>\n",
       "  <tbody>\n",
       "    <tr>\n",
       "      <th>0</th>\n",
       "      <td>AMAZONAS</td>\n",
       "      <td>BAGUA</td>\n",
       "      <td>BAGUA</td>\n",
       "      <td>0</td>\n",
       "      <td>2020</td>\n",
       "      <td>7</td>\n",
       "      <td>20</td>\n",
       "      <td>1.0</td>\n",
       "      <td>PR</td>\n",
       "      <td>4.0</td>\n",
       "      <td>4.0</td>\n",
       "    </tr>\n",
       "    <tr>\n",
       "      <th>1</th>\n",
       "      <td>AMAZONAS</td>\n",
       "      <td>BAGUA</td>\n",
       "      <td>BAGUA</td>\n",
       "      <td>1</td>\n",
       "      <td>2021</td>\n",
       "      <td>4</td>\n",
       "      <td>23</td>\n",
       "      <td>2.0</td>\n",
       "      <td>PR</td>\n",
       "      <td>1.0</td>\n",
       "      <td>4.0</td>\n",
       "    </tr>\n",
       "    <tr>\n",
       "      <th>2</th>\n",
       "      <td>AMAZONAS</td>\n",
       "      <td>UTCUBAMBA</td>\n",
       "      <td>BAGUA GRANDE</td>\n",
       "      <td>1</td>\n",
       "      <td>2021</td>\n",
       "      <td>2</td>\n",
       "      <td>3</td>\n",
       "      <td>1.0</td>\n",
       "      <td>PR</td>\n",
       "      <td>1.0</td>\n",
       "      <td>4.0</td>\n",
       "    </tr>\n",
       "    <tr>\n",
       "      <th>3</th>\n",
       "      <td>ANCASH</td>\n",
       "      <td>CASMA</td>\n",
       "      <td>CASMA</td>\n",
       "      <td>1</td>\n",
       "      <td>2020</td>\n",
       "      <td>5</td>\n",
       "      <td>8</td>\n",
       "      <td>1.0</td>\n",
       "      <td>PR</td>\n",
       "      <td>2.0</td>\n",
       "      <td>3.0</td>\n",
       "    </tr>\n",
       "    <tr>\n",
       "      <th>4</th>\n",
       "      <td>ANCASH</td>\n",
       "      <td>CASMA</td>\n",
       "      <td>CASMA</td>\n",
       "      <td>1</td>\n",
       "      <td>2021</td>\n",
       "      <td>4</td>\n",
       "      <td>7</td>\n",
       "      <td>1.0</td>\n",
       "      <td>PR</td>\n",
       "      <td>1.0</td>\n",
       "      <td>2.0</td>\n",
       "    </tr>\n",
       "  </tbody>\n",
       "</table>\n",
       "</div>"
      ],
      "text/plain": [
       "  DEPARTAMENTO  PROVINCIA      DISTRITO  SEXO  Year  Month  Day  contar_fall  \\\n",
       "0     AMAZONAS      BAGUA         BAGUA     0  2020      7   20          1.0   \n",
       "1     AMAZONAS      BAGUA         BAGUA     1  2021      4   23          2.0   \n",
       "2     AMAZONAS  UTCUBAMBA  BAGUA GRANDE     1  2021      2    3          1.0   \n",
       "3       ANCASH      CASMA         CASMA     1  2020      5    8          1.0   \n",
       "4       ANCASH      CASMA         CASMA     1  2021      4    7          1.0   \n",
       "\n",
       "  METODODX  contar_pos  Riesgo_distrito  \n",
       "0       PR         4.0              4.0  \n",
       "1       PR         1.0              4.0  \n",
       "2       PR         1.0              4.0  \n",
       "3       PR         2.0              3.0  \n",
       "4       PR         1.0              2.0  "
      ]
     },
     "execution_count": 30,
     "metadata": {},
     "output_type": "execute_result"
    }
   ],
   "source": [
    "labels = data['SEXO'].astype('category').cat.categories.tolist()\n",
    "replace_map_comp = {'SEXO' : {k: v for k,v in zip(labels,list(range(0,len(labels)+1)))}}\n",
    "\n",
    "print(replace_map_comp)\n",
    "data2 = data.copy()\n",
    "data2.replace(replace_map_comp, inplace=True)\n",
    "\n",
    "data2.head()"
   ]
  },
  {
   "cell_type": "code",
   "execution_count": 31,
   "id": "32c1afef",
   "metadata": {
    "scrolled": true
   },
   "outputs": [
    {
     "name": "stdout",
     "output_type": "stream",
     "text": [
      "{'METODODX': {'AG': 0, 'PR': 1}}\n"
     ]
    },
    {
     "data": {
      "text/html": [
       "<div>\n",
       "<style scoped>\n",
       "    .dataframe tbody tr th:only-of-type {\n",
       "        vertical-align: middle;\n",
       "    }\n",
       "\n",
       "    .dataframe tbody tr th {\n",
       "        vertical-align: top;\n",
       "    }\n",
       "\n",
       "    .dataframe thead th {\n",
       "        text-align: right;\n",
       "    }\n",
       "</style>\n",
       "<table border=\"1\" class=\"dataframe\">\n",
       "  <thead>\n",
       "    <tr style=\"text-align: right;\">\n",
       "      <th></th>\n",
       "      <th>DEPARTAMENTO</th>\n",
       "      <th>PROVINCIA</th>\n",
       "      <th>DISTRITO</th>\n",
       "      <th>SEXO</th>\n",
       "      <th>Year</th>\n",
       "      <th>Month</th>\n",
       "      <th>Day</th>\n",
       "      <th>contar_fall</th>\n",
       "      <th>METODODX</th>\n",
       "      <th>contar_pos</th>\n",
       "      <th>Riesgo_distrito</th>\n",
       "    </tr>\n",
       "  </thead>\n",
       "  <tbody>\n",
       "    <tr>\n",
       "      <th>0</th>\n",
       "      <td>AMAZONAS</td>\n",
       "      <td>BAGUA</td>\n",
       "      <td>BAGUA</td>\n",
       "      <td>0</td>\n",
       "      <td>2020</td>\n",
       "      <td>7</td>\n",
       "      <td>20</td>\n",
       "      <td>1.0</td>\n",
       "      <td>1</td>\n",
       "      <td>4.0</td>\n",
       "      <td>4.0</td>\n",
       "    </tr>\n",
       "    <tr>\n",
       "      <th>1</th>\n",
       "      <td>AMAZONAS</td>\n",
       "      <td>BAGUA</td>\n",
       "      <td>BAGUA</td>\n",
       "      <td>1</td>\n",
       "      <td>2021</td>\n",
       "      <td>4</td>\n",
       "      <td>23</td>\n",
       "      <td>2.0</td>\n",
       "      <td>1</td>\n",
       "      <td>1.0</td>\n",
       "      <td>4.0</td>\n",
       "    </tr>\n",
       "    <tr>\n",
       "      <th>2</th>\n",
       "      <td>AMAZONAS</td>\n",
       "      <td>UTCUBAMBA</td>\n",
       "      <td>BAGUA GRANDE</td>\n",
       "      <td>1</td>\n",
       "      <td>2021</td>\n",
       "      <td>2</td>\n",
       "      <td>3</td>\n",
       "      <td>1.0</td>\n",
       "      <td>1</td>\n",
       "      <td>1.0</td>\n",
       "      <td>4.0</td>\n",
       "    </tr>\n",
       "    <tr>\n",
       "      <th>3</th>\n",
       "      <td>ANCASH</td>\n",
       "      <td>CASMA</td>\n",
       "      <td>CASMA</td>\n",
       "      <td>1</td>\n",
       "      <td>2020</td>\n",
       "      <td>5</td>\n",
       "      <td>8</td>\n",
       "      <td>1.0</td>\n",
       "      <td>1</td>\n",
       "      <td>2.0</td>\n",
       "      <td>3.0</td>\n",
       "    </tr>\n",
       "    <tr>\n",
       "      <th>4</th>\n",
       "      <td>ANCASH</td>\n",
       "      <td>CASMA</td>\n",
       "      <td>CASMA</td>\n",
       "      <td>1</td>\n",
       "      <td>2021</td>\n",
       "      <td>4</td>\n",
       "      <td>7</td>\n",
       "      <td>1.0</td>\n",
       "      <td>1</td>\n",
       "      <td>1.0</td>\n",
       "      <td>2.0</td>\n",
       "    </tr>\n",
       "  </tbody>\n",
       "</table>\n",
       "</div>"
      ],
      "text/plain": [
       "  DEPARTAMENTO  PROVINCIA      DISTRITO  SEXO  Year  Month  Day  contar_fall  \\\n",
       "0     AMAZONAS      BAGUA         BAGUA     0  2020      7   20          1.0   \n",
       "1     AMAZONAS      BAGUA         BAGUA     1  2021      4   23          2.0   \n",
       "2     AMAZONAS  UTCUBAMBA  BAGUA GRANDE     1  2021      2    3          1.0   \n",
       "3       ANCASH      CASMA         CASMA     1  2020      5    8          1.0   \n",
       "4       ANCASH      CASMA         CASMA     1  2021      4    7          1.0   \n",
       "\n",
       "   METODODX  contar_pos  Riesgo_distrito  \n",
       "0         1         4.0              4.0  \n",
       "1         1         1.0              4.0  \n",
       "2         1         1.0              4.0  \n",
       "3         1         2.0              3.0  \n",
       "4         1         1.0              2.0  "
      ]
     },
     "execution_count": 31,
     "metadata": {},
     "output_type": "execute_result"
    }
   ],
   "source": [
    "labels = data['METODODX'].astype('category').cat.categories.tolist()\n",
    "replace_map_comp = {'METODODX' : {k: v for k,v in zip(labels,list(range(0,len(labels)+1)))}}\n",
    "\n",
    "print(replace_map_comp)\n",
    "data3 = data2.copy()\n",
    "data3.replace(replace_map_comp, inplace=True)\n",
    "\n",
    "data3.head()"
   ]
  },
  {
   "cell_type": "code",
   "execution_count": 32,
   "id": "778a464d",
   "metadata": {
    "scrolled": true
   },
   "outputs": [
    {
     "name": "stdout",
     "output_type": "stream",
     "text": [
      "{'DEPARTAMENTO': {'AMAZONAS': 0, 'ANCASH': 1, 'APURIMAC': 2, 'AREQUIPA': 3, 'AYACUCHO': 4, 'CAJAMARCA': 5, 'CALLAO': 6, 'CUSCO': 7, 'HUANCAVELICA': 8, 'HUANUCO': 9, 'ICA': 10, 'JUNIN': 11, 'LA LIBERTAD': 12, 'LAMBAYEQUE': 13, 'LIMA REGION': 14, 'LORETO': 15, 'MADRE DE DIOS': 16, 'MOQUEGUA': 17, 'PASCO': 18, 'PIURA': 19, 'PUNO': 20, 'SAN MARTIN': 21, 'TACNA': 22, 'TUMBES': 23, 'UCAYALI': 24}}\n"
     ]
    },
    {
     "data": {
      "text/html": [
       "<div>\n",
       "<style scoped>\n",
       "    .dataframe tbody tr th:only-of-type {\n",
       "        vertical-align: middle;\n",
       "    }\n",
       "\n",
       "    .dataframe tbody tr th {\n",
       "        vertical-align: top;\n",
       "    }\n",
       "\n",
       "    .dataframe thead th {\n",
       "        text-align: right;\n",
       "    }\n",
       "</style>\n",
       "<table border=\"1\" class=\"dataframe\">\n",
       "  <thead>\n",
       "    <tr style=\"text-align: right;\">\n",
       "      <th></th>\n",
       "      <th>DEPARTAMENTO</th>\n",
       "      <th>PROVINCIA</th>\n",
       "      <th>DISTRITO</th>\n",
       "      <th>SEXO</th>\n",
       "      <th>Year</th>\n",
       "      <th>Month</th>\n",
       "      <th>Day</th>\n",
       "      <th>contar_fall</th>\n",
       "      <th>METODODX</th>\n",
       "      <th>contar_pos</th>\n",
       "      <th>Riesgo_distrito</th>\n",
       "    </tr>\n",
       "  </thead>\n",
       "  <tbody>\n",
       "    <tr>\n",
       "      <th>0</th>\n",
       "      <td>0</td>\n",
       "      <td>BAGUA</td>\n",
       "      <td>BAGUA</td>\n",
       "      <td>0</td>\n",
       "      <td>2020</td>\n",
       "      <td>7</td>\n",
       "      <td>20</td>\n",
       "      <td>1.0</td>\n",
       "      <td>1</td>\n",
       "      <td>4.0</td>\n",
       "      <td>4.0</td>\n",
       "    </tr>\n",
       "    <tr>\n",
       "      <th>1</th>\n",
       "      <td>0</td>\n",
       "      <td>BAGUA</td>\n",
       "      <td>BAGUA</td>\n",
       "      <td>1</td>\n",
       "      <td>2021</td>\n",
       "      <td>4</td>\n",
       "      <td>23</td>\n",
       "      <td>2.0</td>\n",
       "      <td>1</td>\n",
       "      <td>1.0</td>\n",
       "      <td>4.0</td>\n",
       "    </tr>\n",
       "    <tr>\n",
       "      <th>2</th>\n",
       "      <td>0</td>\n",
       "      <td>UTCUBAMBA</td>\n",
       "      <td>BAGUA GRANDE</td>\n",
       "      <td>1</td>\n",
       "      <td>2021</td>\n",
       "      <td>2</td>\n",
       "      <td>3</td>\n",
       "      <td>1.0</td>\n",
       "      <td>1</td>\n",
       "      <td>1.0</td>\n",
       "      <td>4.0</td>\n",
       "    </tr>\n",
       "    <tr>\n",
       "      <th>3</th>\n",
       "      <td>1</td>\n",
       "      <td>CASMA</td>\n",
       "      <td>CASMA</td>\n",
       "      <td>1</td>\n",
       "      <td>2020</td>\n",
       "      <td>5</td>\n",
       "      <td>8</td>\n",
       "      <td>1.0</td>\n",
       "      <td>1</td>\n",
       "      <td>2.0</td>\n",
       "      <td>3.0</td>\n",
       "    </tr>\n",
       "    <tr>\n",
       "      <th>4</th>\n",
       "      <td>1</td>\n",
       "      <td>CASMA</td>\n",
       "      <td>CASMA</td>\n",
       "      <td>1</td>\n",
       "      <td>2021</td>\n",
       "      <td>4</td>\n",
       "      <td>7</td>\n",
       "      <td>1.0</td>\n",
       "      <td>1</td>\n",
       "      <td>1.0</td>\n",
       "      <td>2.0</td>\n",
       "    </tr>\n",
       "  </tbody>\n",
       "</table>\n",
       "</div>"
      ],
      "text/plain": [
       "   DEPARTAMENTO  PROVINCIA      DISTRITO  SEXO  Year  Month  Day  contar_fall  \\\n",
       "0             0      BAGUA         BAGUA     0  2020      7   20          1.0   \n",
       "1             0      BAGUA         BAGUA     1  2021      4   23          2.0   \n",
       "2             0  UTCUBAMBA  BAGUA GRANDE     1  2021      2    3          1.0   \n",
       "3             1      CASMA         CASMA     1  2020      5    8          1.0   \n",
       "4             1      CASMA         CASMA     1  2021      4    7          1.0   \n",
       "\n",
       "   METODODX  contar_pos  Riesgo_distrito  \n",
       "0         1         4.0              4.0  \n",
       "1         1         1.0              4.0  \n",
       "2         1         1.0              4.0  \n",
       "3         1         2.0              3.0  \n",
       "4         1         1.0              2.0  "
      ]
     },
     "execution_count": 32,
     "metadata": {},
     "output_type": "execute_result"
    }
   ],
   "source": [
    "labels = data['DEPARTAMENTO'].astype('category').cat.categories.tolist()\n",
    "replace_map_comp = {'DEPARTAMENTO' : {k: v for k,v in zip(labels,list(range(0,len(labels)+1)))}}\n",
    "\n",
    "print(replace_map_comp)\n",
    "data4 = data3.copy()\n",
    "data4.replace(replace_map_comp, inplace=True)\n",
    "\n",
    "data4.head()"
   ]
  },
  {
   "cell_type": "code",
   "execution_count": 33,
   "id": "a4970314",
   "metadata": {},
   "outputs": [
    {
     "name": "stdout",
     "output_type": "stream",
     "text": [
      "{'PROVINCIA': {'ABANCAY': 0, 'ACOBAMBA': 1, 'AIJA': 2, 'ALTO AMAZONAS': 3, 'AMBO': 4, 'ANDAHUAYLAS': 5, 'ANGARAES': 6, 'ANTA': 7, 'ANTABAMBA': 8, 'ANTONIO RAIMONDI': 9, 'AREQUIPA': 10, 'ASCOPE': 11, 'ATALAYA': 12, 'AYABACA': 13, 'AYMARAES': 14, 'AZANGARO': 15, 'BAGUA': 16, 'BARRANCA': 17, 'BELLAVISTA': 18, 'BOLIVAR': 19, 'BOLOGNESI': 20, 'BONGARA': 21, 'CAJABAMBA': 22, 'CAJAMARCA': 23, 'CAJATAMBO': 24, 'CALCA': 25, 'CALLAO': 26, 'CAMANA': 27, 'CANAS': 28, 'CANCHIS': 29, 'CANDARAVE': 30, 'CANGALLO': 31, 'CANTA': 32, 'CARABAYA': 33, 'CARAVELI': 34, 'CARHUAZ': 35, 'CASMA': 36, 'CASTILLA': 37, 'CASTROVIRREYNA': 38, 'CAYLLOMA': 39, 'CAÑETE': 40, 'CELENDIN': 41, 'CHACHAPOYAS': 42, 'CHANCHAMAYO': 43, 'CHEPEN': 44, 'CHICLAYO': 45, 'CHINCHA': 46, 'CHINCHEROS': 47, 'CHOTA': 48, 'CHUCUITO': 49, 'CHUMBIVILCAS': 50, 'CHUPACA': 51, 'CHURCAMPA': 52, 'CONCEPCION': 53, 'CONDESUYOS': 54, 'CONDORCANQUI': 55, 'CONTRALMIRANTE VILLAR': 56, 'CONTUMAZA': 57, 'CORONEL PORTILLO': 58, 'COTABAMBAS': 59, 'CUSCO': 60, 'CUTERVO': 61, 'DANIEL ALCIDES CARRION': 62, 'DATEM DEL MARAÑON': 63, 'DOS DE MAYO': 64, 'EL COLLAO': 65, 'EL DORADO': 66, 'ESPINAR': 67, 'FERREÑAFE': 68, 'GENERAL SANCHEZ CERRO': 69, 'GRAN CHIMU': 70, 'GRAU': 71, 'HUACAYBAMBA': 72, 'HUALGAYOC': 73, 'HUALLAGA': 74, 'HUAMALIES': 75, 'HUAMANGA': 76, 'HUANCABAMBA': 77, 'HUANCANE': 78, 'HUANCAVELICA': 79, 'HUANCAYO': 80, 'HUANTA': 81, 'HUANUCO': 82, 'HUARAL': 83, 'HUARAZ': 84, 'HUARI': 85, 'HUARMEY': 86, 'HUAROCHIRI': 87, 'HUAURA': 88, 'HUAYLAS': 89, 'ICA': 90, 'ILO': 91, 'ISLAY': 92, 'JAEN': 93, 'JAUJA': 94, 'JORGE BASADRE': 95, 'JULCAN': 96, 'JUNIN': 97, 'LA CONVENCION': 98, 'LA MAR': 99, 'LAMAS': 100, 'LAMBAYEQUE': 101, 'LAMPA': 102, 'LEONCIO PRADO': 103, 'LORETO': 104, 'LUCANAS': 105, 'LUYA': 106, 'MANU': 107, 'MARAÑON': 108, 'MARISCAL CACERES': 109, 'MARISCAL LUZURIAGA': 110, 'MARISCAL NIETO': 111, 'MARISCAL RAMON CASTILLA': 112, 'MAYNAS': 113, 'MELGAR': 114, 'MOHO': 115, 'MORROPON': 116, 'MOYOBAMBA': 117, 'NAZCA': 118, 'OCROS': 119, 'OTUZCO': 120, 'OXAPAMPA': 121, 'OYON': 122, 'PACASMAYO': 123, 'PACHITEA': 124, 'PADRE ABAD': 125, 'PAITA': 126, 'PALLASCA': 127, 'PALPA': 128, 'PARINACOCHAS': 129, 'PASCO': 130, 'PATAZ': 131, 'PAUCAR DEL SARA SARA': 132, 'PAUCARTAMBO': 133, 'PICOTA': 134, 'PISCO': 135, 'PIURA': 136, 'POMABAMBA': 137, 'PUERTO INCA': 138, 'PUNO': 139, 'PURUS': 140, 'PUTUMAYO': 141, 'QUISPICANCHI': 142, 'RECUAY': 143, 'REQUENA': 144, 'RIOJA': 145, 'RODRIGUEZ DE MENDOZA': 146, 'SAN ANTONIO DE PUTINA': 147, 'SAN IGNACIO': 148, 'SAN MARCOS': 149, 'SAN MARTIN': 150, 'SAN MIGUEL': 151, 'SAN PABLO': 152, 'SAN ROMAN': 153, 'SANCHEZ CARRION': 154, 'SANDIA': 155, 'SANTA': 156, 'SANTA CRUZ': 157, 'SANTIAGO DE CHUCO': 158, 'SATIPO': 159, 'SECHURA': 160, 'SIHUAS': 161, 'SUCRE': 162, 'SULLANA': 163, 'TACNA': 164, 'TAHUAMANU': 165, 'TALARA': 166, 'TAMBOPATA': 167, 'TARATA': 168, 'TARMA': 169, 'TAYACAJA': 170, 'TOCACHE': 171, 'TRUJILLO': 172, 'TUMBES': 173, 'UCAYALI': 174, 'URUBAMBA': 175, 'UTCUBAMBA': 176, 'VICTOR FAJARDO': 177, 'VILCAS HUAMAN': 178, 'VIRU': 179, 'YAROWILCA': 180, 'YAULI': 181, 'YAUYOS': 182, 'YUNGAY': 183, 'YUNGUYO': 184, 'ZARUMILLA': 185}}\n"
     ]
    },
    {
     "data": {
      "text/html": [
       "<div>\n",
       "<style scoped>\n",
       "    .dataframe tbody tr th:only-of-type {\n",
       "        vertical-align: middle;\n",
       "    }\n",
       "\n",
       "    .dataframe tbody tr th {\n",
       "        vertical-align: top;\n",
       "    }\n",
       "\n",
       "    .dataframe thead th {\n",
       "        text-align: right;\n",
       "    }\n",
       "</style>\n",
       "<table border=\"1\" class=\"dataframe\">\n",
       "  <thead>\n",
       "    <tr style=\"text-align: right;\">\n",
       "      <th></th>\n",
       "      <th>DEPARTAMENTO</th>\n",
       "      <th>PROVINCIA</th>\n",
       "      <th>DISTRITO</th>\n",
       "      <th>SEXO</th>\n",
       "      <th>Year</th>\n",
       "      <th>Month</th>\n",
       "      <th>Day</th>\n",
       "      <th>contar_fall</th>\n",
       "      <th>METODODX</th>\n",
       "      <th>contar_pos</th>\n",
       "      <th>Riesgo_distrito</th>\n",
       "    </tr>\n",
       "  </thead>\n",
       "  <tbody>\n",
       "    <tr>\n",
       "      <th>0</th>\n",
       "      <td>0</td>\n",
       "      <td>16</td>\n",
       "      <td>BAGUA</td>\n",
       "      <td>0</td>\n",
       "      <td>2020</td>\n",
       "      <td>7</td>\n",
       "      <td>20</td>\n",
       "      <td>1.0</td>\n",
       "      <td>1</td>\n",
       "      <td>4.0</td>\n",
       "      <td>4.0</td>\n",
       "    </tr>\n",
       "    <tr>\n",
       "      <th>1</th>\n",
       "      <td>0</td>\n",
       "      <td>16</td>\n",
       "      <td>BAGUA</td>\n",
       "      <td>1</td>\n",
       "      <td>2021</td>\n",
       "      <td>4</td>\n",
       "      <td>23</td>\n",
       "      <td>2.0</td>\n",
       "      <td>1</td>\n",
       "      <td>1.0</td>\n",
       "      <td>4.0</td>\n",
       "    </tr>\n",
       "    <tr>\n",
       "      <th>2</th>\n",
       "      <td>0</td>\n",
       "      <td>176</td>\n",
       "      <td>BAGUA GRANDE</td>\n",
       "      <td>1</td>\n",
       "      <td>2021</td>\n",
       "      <td>2</td>\n",
       "      <td>3</td>\n",
       "      <td>1.0</td>\n",
       "      <td>1</td>\n",
       "      <td>1.0</td>\n",
       "      <td>4.0</td>\n",
       "    </tr>\n",
       "    <tr>\n",
       "      <th>3</th>\n",
       "      <td>1</td>\n",
       "      <td>36</td>\n",
       "      <td>CASMA</td>\n",
       "      <td>1</td>\n",
       "      <td>2020</td>\n",
       "      <td>5</td>\n",
       "      <td>8</td>\n",
       "      <td>1.0</td>\n",
       "      <td>1</td>\n",
       "      <td>2.0</td>\n",
       "      <td>3.0</td>\n",
       "    </tr>\n",
       "    <tr>\n",
       "      <th>4</th>\n",
       "      <td>1</td>\n",
       "      <td>36</td>\n",
       "      <td>CASMA</td>\n",
       "      <td>1</td>\n",
       "      <td>2021</td>\n",
       "      <td>4</td>\n",
       "      <td>7</td>\n",
       "      <td>1.0</td>\n",
       "      <td>1</td>\n",
       "      <td>1.0</td>\n",
       "      <td>2.0</td>\n",
       "    </tr>\n",
       "  </tbody>\n",
       "</table>\n",
       "</div>"
      ],
      "text/plain": [
       "   DEPARTAMENTO  PROVINCIA      DISTRITO  SEXO  Year  Month  Day  contar_fall  \\\n",
       "0             0         16         BAGUA     0  2020      7   20          1.0   \n",
       "1             0         16         BAGUA     1  2021      4   23          2.0   \n",
       "2             0        176  BAGUA GRANDE     1  2021      2    3          1.0   \n",
       "3             1         36         CASMA     1  2020      5    8          1.0   \n",
       "4             1         36         CASMA     1  2021      4    7          1.0   \n",
       "\n",
       "   METODODX  contar_pos  Riesgo_distrito  \n",
       "0         1         4.0              4.0  \n",
       "1         1         1.0              4.0  \n",
       "2         1         1.0              4.0  \n",
       "3         1         2.0              3.0  \n",
       "4         1         1.0              2.0  "
      ]
     },
     "execution_count": 33,
     "metadata": {},
     "output_type": "execute_result"
    }
   ],
   "source": [
    "labels = data['PROVINCIA'].astype('category').cat.categories.tolist()\n",
    "replace_map_comp = {'PROVINCIA' : {k: v for k,v in zip(labels,list(range(0,len(labels)+1)))}}\n",
    "\n",
    "print(replace_map_comp)\n",
    "data5 = data4.copy()\n",
    "data5.replace(replace_map_comp, inplace=True)\n",
    "\n",
    "data5.head()"
   ]
  },
  {
   "cell_type": "code",
   "execution_count": 34,
   "id": "943b0931",
   "metadata": {
    "scrolled": false
   },
   "outputs": [
    {
     "name": "stdout",
     "output_type": "stream",
     "text": [
      "{'DISTRITO': {'ABANCAY': 0, 'ACARI': 1, 'ACAS': 2, 'ACOBAMBA': 3, 'ACOCRO': 4, 'ACOLLA': 5, 'ACOPAMPA': 6, 'ACORA': 7, 'ACORIA': 8, 'ACRAQUIA': 9, 'AGALLPAMPA': 10, 'AGUA BLANCA': 11, 'AGUAS VERDES': 12, 'AHUAC': 13, 'AHUAYCHA': 14, 'ALEXANDER VON HUMBOLDT': 15, 'ALONSO DE ALVARADO': 16, 'ALTO DE LA ALIANZA': 17, 'ALTO LARAN': 18, 'ALTO NANAY': 19, 'ALTO SELVA ALEGRE': 20, 'AMARILIS': 21, 'AMBO': 22, 'AMOTAPE': 23, 'ANANEA': 24, 'ANCAHUASI': 25, 'ANCHIHUAY': 26, 'ANCHONGA': 27, 'ANCO': 28, 'ANDABAMBA': 29, 'ANDAHUAYLAS': 30, 'ANDAHUAYLILLAS': 31, 'ANDAMARCA': 32, 'ANDARAPA': 33, 'ANDOAS': 34, 'ANDRES AVELINO CACERES D.': 35, 'ANGUIA': 36, 'ANTA': 37, 'ANTABAMBA': 38, 'ANTAUTA': 39, 'APATA': 40, 'APLAO': 41, 'ARAMANGO': 42, 'AREQUIPA': 43, 'ASCENSION': 44, 'ASCOPE': 45, 'ASIA': 46, 'ASILLO': 47, 'ATAURA': 48, 'ATAVILLOS BAJO': 49, 'ATICO': 50, 'AUCALLAMA': 51, 'AWAJUN': 52, 'AYABACA': 53, 'AYACUCHO': 54, 'AYAPATA': 55, 'AYAVIRI': 56, 'AYNA': 57, 'AZANGARO': 58, 'BAGUA': 59, 'BAGUA GRANDE': 60, 'BAMBAMARCA': 61, 'BARRANCA': 62, 'BARRANQUITA': 63, 'BELEN': 64, 'BELLA UNION': 65, 'BELLAVISTA': 66, 'BELLAVISTA DE LA UNION': 67, 'BERNAL': 68, 'BOLIVAR': 69, 'BUENA VISTA ALTA': 70, 'BUENOS AIRES': 71, 'BULDIBUYO': 72, 'CABANA': 73, 'CABANILLA': 74, 'CABANILLAS': 75, 'CACHACHI': 76, 'CACHIMAYO': 77, 'CAJA': 78, 'CAJABAMBA': 79, 'CAJAMARCA': 80, 'CAJARURO': 81, 'CAJATAMBO': 82, 'CAJAY': 83, 'CALANA': 84, 'CALCA': 85, 'CALETA DE CARQUIN': 86, 'CALLAO': 87, 'CALLAYUC': 88, 'CALLERIA': 89, 'CALQUIS': 90, 'CALZADA': 91, 'CAMANA': 92, 'CAMANTI': 93, 'CAMPANILLA': 94, 'CAMPOVERDE': 95, 'CANARIA': 96, 'CANAYRE': 97, 'CANCHABAMBA': 98, 'CANCHAQUE': 99, 'CANDARAVE': 100, 'CANGALLO': 101, 'CANOAS DE PUNTA SAL': 102, 'CANTA': 103, 'CAPACHICA': 104, 'CARACOTO': 105, 'CARAVELI': 106, 'CARAZ': 107, 'CARHUAMAYO': 108, 'CARHUAZ': 109, 'CARMEN ALTO': 110, 'CARUMAS': 111, 'CASA GRANDE': 112, 'CASCAS': 113, 'CASITAS': 114, 'CASMA': 115, 'CASTILLA': 116, 'CASTILLO GRANDE': 117, 'CATAC': 118, 'CATACAOS': 119, 'CATACHE': 120, 'CATAHUASI': 121, 'CAUJUL': 122, 'CAYALTI': 123, 'CAYLLOMA': 124, 'CAYMA': 125, 'CAYNARACHI': 126, 'CAÑARIS': 127, 'CCARHUAYO': 128, 'CCATCA': 129, 'CCOCHACCASA': 130, 'CELENDIN': 131, 'CERRO AZUL': 132, 'CERRO COLORADO': 133, 'CHACAPALPA': 134, 'CHACAPAMPA': 135, 'CHACHAPOYAS': 136, 'CHALA': 137, 'CHALHUANCA': 138, 'CHALLHUAHUACHO': 139, 'CHAMACA': 140, 'CHANCAY': 141, 'CHANCHAMAYO': 142, 'CHANGUILLO': 143, 'CHAO': 144, 'CHAPARRA': 145, 'CHAPIMARCA': 146, 'CHARACATO': 147, 'CHAUPIMARCA': 148, 'CHAVIN DE HUANTAR': 149, 'CHAVINILLO': 150, 'CHAZUTA': 151, 'CHECACUPE': 152, 'CHEPEN': 153, 'CHICAMA': 154, 'CHICCHE': 155, 'CHICLAYO': 156, 'CHIGUATA': 157, 'CHILCA': 158, 'CHILETE': 159, 'CHILLIA': 160, 'CHIMBOTE': 161, 'CHINCHA ALTA': 162, 'CHINCHA BAJA': 163, 'CHINCHAO': 164, 'CHINCHERO': 165, 'CHINCHEROS': 166, 'CHINGALPO': 167, 'CHIQUIAN': 168, 'CHIRINOS': 169, 'CHIVAY': 170, 'CHOCOPE': 171, 'CHONGOS BAJO': 172, 'CHONGOYAPE': 173, 'CHONTABAMBA': 174, 'CHOTA': 175, 'CHUCUITO': 176, 'CHULUCANAS': 177, 'CHUPA': 178, 'CHUPACA': 179, 'CHUPURO': 180, 'CHUQUIBAMBA': 181, 'CHUQUIBAMBILLA': 182, 'CHURCAMPA': 183, 'CHUSCHI': 184, 'CIUDAD NUEVA': 185, 'COALAQUE': 186, 'COATA': 187, 'COCACHACRA': 188, 'COCHABAMBA': 189, 'COCHAS': 190, 'CODO DEL POZUZO': 191, 'COISHCO': 192, 'COJATA': 193, 'COLAN': 194, 'COLASAY': 195, 'COLCABAMBA': 196, 'COLQUEMARCA': 197, 'COLQUIOC': 198, 'COMANDANTE NOEL': 199, 'COMAS': 200, 'CONCEPCION': 201, 'CONCHAMARCA': 202, 'CONCHUCOS': 203, 'CONIMA': 204, 'CONSTITUCION': 205, 'CONTAMANA': 206, 'CONTUMAZA': 207, 'COPALLIN': 208, 'CORACORA': 209, 'CORANI': 210, 'CORONEL GREGORIO ALBARRACIN L.': 211, 'CORRALES': 212, 'CORTEGANA': 213, 'COTABAMBAS': 214, 'COTARUSE': 215, 'COVIRIALI': 216, 'COYLLURQUI': 217, 'CULEBRAS': 218, 'CUMBA': 219, 'CURA MORI': 220, 'CURAHUASI': 221, 'CURASCO': 222, 'CURGOS': 223, 'CURPAHUASI': 224, 'CUSCO': 225, 'CUTERVO': 226, 'DANIEL HERNANDEZ': 227, 'DEAN VALDIVIA': 228, 'DESAGUADERO': 229, 'ECHARATE': 230, 'EL ALTO': 231, 'EL CARMEN': 232, 'EL CENEPA': 233, 'EL ESLABON': 234, 'EL INGENIO': 235, 'EL MILAGRO': 236, 'EL PORVENIR': 237, 'EL PRADO': 238, 'EL TALLAN': 239, 'EL TAMBO': 240, 'ELIAS SOPLIN VARGAS': 241, 'ENCAÑADA': 242, 'ESPINAR': 243, 'ESTIQUE': 244, 'ETEN': 245, 'FERNANDO LORES': 246, 'FERREÑAFE': 247, 'FLORENCIA DE MORA': 248, 'FLORIDA': 249, 'FRIAS': 250, 'GREGORIO PITA': 251, 'GROCIO PRADO': 252, 'GUADALUPE': 253, 'GUADALUPITO': 254, 'HAQUIRA': 255, 'HONORIA': 256, 'HUACAR': 257, 'HUACAYBAMBA': 258, 'HUACHAC': 259, 'HUACHO': 260, 'HUACHOCOLPA': 261, 'HUACHON': 262, 'HUACRACHUCO': 263, 'HUALGAYOC': 264, 'HUALHUAS': 265, 'HUALLANCA': 266, 'HUALMAY': 267, 'HUAMACHUCO': 268, 'HUAMANCACA CHICO': 269, 'HUAMANGUILLA': 270, 'HUAMBOS': 271, 'HUANCABAMBA': 272, 'HUANCAN': 273, 'HUANCANE': 274, 'HUANCAPI': 275, 'HUANCARAMA': 276, 'HUANCARAY': 277, 'HUANCAS': 278, 'HUANCAVELICA': 279, 'HUANCAYO': 280, 'HUANCHACO': 281, 'HUANDO': 282, 'HUANTA': 283, 'HUANUCO': 284, 'HUANUHUANU': 285, 'HUANZA': 286, 'HUARAL': 287, 'HUARANGO': 288, 'HUARAZ': 289, 'HUARI': 290, 'HUARIACA': 291, 'HUARIPAMPA': 292, 'HUARMEY': 293, 'HUARO': 294, 'HUAROCHIRI': 295, 'HUAROCONDO': 296, 'HUASAHUASI': 297, 'HUATA': 298, 'HUAURA': 299, 'HUAYLLABAMBA': 300, 'HUAYLLAN': 301, 'HUAYLLAY': 302, 'HUAYOPATA': 303, 'HUAYUCACHI': 304, 'HUEPETUHE': 305, 'HUERTAS': 306, 'HUICUNGO': 307, 'HUMAY': 308, 'IBERIA': 309, 'ICA': 310, 'ICHOCAN': 311, 'IGNACIO ESCUDERO': 312, 'ILABAYA': 313, 'ILAVE': 314, 'ILLIMO': 315, 'ILO': 316, 'IMAZA': 317, 'IMPERIAL': 318, 'INAMBARI': 319, 'INDEPENDENCIA': 320, 'INDIANA': 321, 'INGENIO': 322, 'IQUITOS': 323, 'IRAZOLA': 324, 'ISLAY': 325, 'ITE': 326, 'IZCUCHACA': 327, 'JACAS GRANDE': 328, 'JACOBO HUNTER': 329, 'JAEN': 330, 'JAUJA': 331, 'JAYANCA': 332, 'JAZAN': 333, 'JENARO HERRERA': 334, 'JEPELACIO': 335, 'JEQUETEPEQUE': 336, 'JESUS': 337, 'JESUS NAZARENO': 338, 'JILILI': 339, 'JOSE CRESPO Y CASTILLO': 340, 'JOSE DOMINGO CHOQUEHUANCA': 341, 'JOSE GALVEZ': 342, 'JOSE LEONARDO ORTIZ': 343, 'JOSE LUIS BUSTAMANTE Y RIVERO': 344, 'JOSE MANUEL QUIROZ': 345, 'JOSE MARIA QUIMPER': 346, 'JOSE SABOGAL': 347, 'JUAN GUERRA': 348, 'JUANJUI': 349, 'JULCAN': 350, 'JULI': 351, 'JULIACA': 352, 'JUNIN': 353, 'KIMBIRI': 354, 'KISHUARA': 355, 'LA ARENA': 356, 'LA BANDA DE SHILCAYO': 357, 'LA BREA': 358, 'LA COIPA': 359, 'LA CRUZ': 360, 'LA ESPERANZA': 361, 'LA HUACA': 362, 'LA JOYA': 363, 'LA MATANZA': 364, 'LA MERCED': 365, 'LA MORADA': 366, 'LA OROYA': 367, 'LA PECA': 368, 'LA PERLA': 369, 'LA PUNTA': 370, 'LA TINGUIÑA': 371, 'LA UNION': 372, 'LA VICTORIA': 373, 'LA YARADA LOS PALOS': 374, 'LABERINTO': 375, 'LAGUNAS': 376, 'LAJAS': 377, 'LAMAS': 378, 'LAMBAYEQUE': 379, 'LAMBRAMA': 380, 'LAMPA': 381, 'LANCONES': 382, 'LARAMATE': 383, 'LAREDO': 384, 'LARI': 385, 'LAS AMAZONAS': 386, 'LAS LOMAS': 387, 'LAS PIEDRAS': 388, 'LAYO': 389, 'LIMATAMBO': 390, 'LIRCAY': 391, 'LIVITACA': 392, 'LLACANORA': 393, 'LLAMA': 394, 'LLAMELLIN': 395, 'LLAPA': 396, 'LLATA': 397, 'LLOCHEGUA': 398, 'LLOCLLAPAMPA': 399, 'LLUSCO': 400, 'LLUTA': 401, 'LOCUMBA': 402, 'LONGAR': 403, 'LOS AQUIJES': 404, 'LOS BAÑOS DEL INCA': 405, 'LOS MOROCHUCOS': 406, 'LOS ORGANOS': 407, 'LUCMA': 408, 'LUCRE': 409, 'LUNAHUANA': 410, 'LURICOCHA': 411, 'LUYA': 412, 'LUYANDO': 413, 'MACHE': 414, 'MACHUPICCHU': 415, 'MACUSANI': 416, 'MADRE DE DIOS': 417, 'MAGDALENA DE CAO': 418, 'MAJES': 419, 'MALA': 420, 'MANANTAY': 421, 'MANCORA': 422, 'MANSERICHE': 423, 'MANU': 424, 'MANUEL ANTONIO MESONES MURO': 425, 'MAQUIA': 426, 'MARA': 427, 'MARANGANI': 428, 'MARANURA': 429, 'MARCABAMBA': 430, 'MARCAPATA': 431, 'MARCAVELICA': 432, 'MARCONA': 433, 'MARIANO DAMASO BERAUN': 434, 'MARIANO MELGAR': 435, 'MARIANO NICOLAS VALCARCEL': 436, 'MARISCAL CACERES': 437, 'MASISEA': 438, 'MASMA': 439, 'MATAHUASI': 440, 'MATUCANA': 441, 'MAZAMARI': 442, 'MAZAN': 443, 'MEGANTONI': 444, 'MEJIA': 445, 'MI PERU': 446, 'MIGUEL CHECA': 447, 'MIRAFLORES': 448, 'MITO': 449, 'MOCHE': 450, 'MOCHUMI': 451, 'MOHO': 452, 'MOLINO': 453, 'MOLINOS': 454, 'MOLLENDO': 455, 'MOLLEPATA': 456, 'MONOBAMBA': 457, 'MONSEFU': 458, 'MONTERO': 459, 'MONZON': 460, 'MOQUEGUA': 461, 'MORALES': 462, 'MORO': 463, 'MOROCOCHA': 464, 'MORONA': 465, 'MORROPE': 466, 'MORROPON': 467, 'MOTUPE': 468, 'MOYA': 469, 'MOYOBAMBA': 470, 'MUQUI': 471, 'MUQUIYAUYO': 472, 'MUSGA': 473, 'NAMBALLE': 474, 'NAPO': 475, 'NAUTA': 476, 'NAZCA': 477, 'NEPEÑA': 478, 'NESHUYA': 479, 'NICOLAS DE PIEROLA': 480, 'NIEVA': 481, 'NINACACA': 482, 'NUEVA CAJAMARCA': 483, 'NUEVA REQUENA': 484, 'NUEVO CHIMBOTE': 485, 'NUEVO IMPERIAL': 486, 'NUEVO PROGRESO': 487, 'NUÑOA': 488, 'OBAS': 489, 'OCAÑA': 490, 'OCOBAMBA': 491, 'OCONGATE': 492, 'OCOÑA': 493, 'OCROS': 494, 'OCUCAJE': 495, 'OCUMAL': 496, 'OLLANTAYTAMBO': 497, 'OLLARAYA': 498, 'OLMOS': 499, 'OMATE': 500, 'OMIA': 501, 'ORCOPAMPA': 502, 'ORCOTUNA': 503, 'OROPESA': 504, 'ORURILLO': 505, 'OTUZCO': 506, 'OXAPAMPA': 507, 'OYON': 508, 'OYOTUN': 509, 'PACAIPAMPA': 510, 'PACANGA': 511, 'PACASMAYO': 512, 'PACCHA': 513, 'PACCHO': 514, 'PACHACONAS': 515, 'PACHACUTEC': 516, 'PACHANGARA': 517, 'PACHAS': 518, 'PACHIA': 519, 'PACLLON': 520, 'PACOBAMBA': 521, 'PACOCHA': 522, 'PACORA': 523, 'PACUCHA': 524, 'PADRE ABAD': 525, 'PAIJAN': 526, 'PAIMAS': 527, 'PAITA': 528, 'PALCA': 529, 'PALCAMAYO': 530, 'PALCAZU': 531, 'PALPA': 532, 'PAMPA HERMOSA': 533, 'PAMPAS': 534, 'PAMPAS DE HOSPITAL': 535, 'PANAO': 536, 'PANGOA': 537, 'PAPAYAL': 538, 'PARACAS': 539, 'PARAMONGA': 540, 'PARATIA': 541, 'PARCO': 542, 'PARCONA': 543, 'PARCOY': 544, 'PARDO MIGUEL': 545, 'PARIACOTO': 546, 'PARIÑAS': 547, 'PASTAZA': 548, 'PATAPO': 549, 'PATAZ': 550, 'PATIVILCA': 551, 'PAUCARA': 552, 'PAUCARBAMBA': 553, 'PAUCARPATA': 554, 'PAUCARTAMBO': 555, 'PAUSA': 556, 'PEBAS': 557, 'PEDRO GALVEZ': 558, 'PERENE': 559, 'PICHACANI': 560, 'PICHANAQUI': 561, 'PICHARI': 562, 'PICHIRHUA': 563, 'PICOTA': 564, 'PICSI': 565, 'PILCOMAYO': 566, 'PILLCO MARCA': 567, 'PIMENTEL': 568, 'PISACOMA': 569, 'PISCO': 570, 'PISUQUIA': 571, 'PITIPO': 572, 'PITUMARCA': 573, 'PIURA': 574, 'POCOLLAY': 575, 'POLVORA': 576, 'POMABAMBA': 577, 'POMACANCHA': 578, 'POMALCA': 579, 'POMATA': 580, 'POROTO': 581, 'POROY': 582, 'PUCALA': 583, 'PUCARA': 584, 'PUEBLO NUEVO': 585, 'PUERTO BERMUDEZ': 586, 'PUERTO INCA': 587, 'PUINAHUA': 588, 'PULLO': 589, 'PUNCHANA': 590, 'PUNO': 591, 'PUNTA DE BOMBON': 592, 'PUQUINA': 593, 'PUQUIO': 594, 'PURUS': 595, 'PUTINA': 596, 'PUTINZA': 597, 'PUTUMAYO': 598, 'QUELLOUNO': 599, 'QUERECOTILLO': 600, 'QUEROBAMBA': 601, 'QUEROCOTILLO': 602, 'QUEROCOTO': 603, 'QUICHES': 604, 'QUILCAS': 605, 'QUILLO': 606, 'QUILMANA': 607, 'QUINOCAY': 608, 'QUIQUIJANA': 609, 'QUIRUVILCA': 610, 'QUIÑOTA': 611, 'RAMON CASTILLA': 612, 'RAZURI': 613, 'RECUAY': 614, 'REQUE': 615, 'REQUENA': 616, 'RICARDO PALMA': 617, 'RIO GRANDE': 618, 'RIO NEGRO': 619, 'RIO SANTIAGO': 620, 'RIO TAMBO': 621, 'RIOJA': 622, 'ROSASPATA': 623, 'SABANDIA': 624, 'SACHACA': 625, 'SALAS': 626, 'SALAVERRY': 627, 'SALCAHUASI': 628, 'SALITRAL': 629, 'SAMAN': 630, 'SAMANCO': 631, 'SAMEGUA': 632, 'SAMUEL PASTOR': 633, 'SAN AGUSTIN': 634, 'SAN ANDRES': 635, 'SAN ANDRES DE TUPICOCHA': 636, 'SAN ANTON': 637, 'SAN ANTONIO': 638, 'SAN BUENAVENTURA': 639, 'SAN CLEMENTE': 640, 'SAN CRISTOBAL': 641, 'SAN FELIPE': 642, 'SAN GABAN': 643, 'SAN HILARION': 644, 'SAN IGNACIO': 645, 'SAN JACINTO': 646, 'SAN JERONIMO': 647, 'SAN JERONIMO DE TUNAN': 648, 'SAN JOSE': 649, 'SAN JOSE DE LOS MOLINOS': 650, 'SAN JOSE DE LOURDES': 651, 'SAN JOSE DE QUERO': 652, 'SAN JOSE DE SISA': 653, 'SAN JOSE DEL ALTO': 654, 'SAN JUAN': 655, 'SAN JUAN BAUTISTA': 656, 'SAN JUAN DE BIGOTE': 657, 'SAN JUAN DE JARPA': 658, 'SAN JUAN DE LA VIRGEN': 659, 'SAN LORENZO': 660, 'SAN LUIS': 661, 'SAN LUIS DE SHUARO': 662, 'SAN MARCOS': 663, 'SAN MARTIN': 664, 'SAN MATEO': 665, 'SAN MIGUEL': 666, 'SAN MIGUEL DE EL FAIQUE': 667, 'SAN NICOLAS': 668, 'SAN PABLO': 669, 'SAN PEDRO': 670, 'SAN PEDRO DE CAJAS': 671, 'SAN PEDRO DE LLOC': 672, 'SAN PEDRO DE PUTINA PUNCU': 673, 'SAN RAFAEL': 674, 'SAN RAMON': 675, 'SAN ROQUE DE CUMBAZA': 676, 'SAN SEBASTIAN': 677, 'SAN VICENTE DE CAÑETE': 678, 'SANDIA': 679, 'SANGALLAYA': 680, 'SANTA': 681, 'SANTA ANA': 682, 'SANTA ANA DE TUSI': 683, 'SANTA CRUZ': 684, 'SANTA CRUZ DE CHUCA': 685, 'SANTA CRUZ DE COCACHACRA': 686, 'SANTA CRUZ DE FLORES': 687, 'SANTA EULALIA': 688, 'SANTA LUCIA': 689, 'SANTA MARIA': 690, 'SANTA MARIA DE CHICMO': 691, 'SANTA MARIA DEL VALLE': 692, 'SANTA ROSA': 693, 'SANTA ROSA DE OCOPA': 694, 'SANTA ROSA DE QUIVES': 695, 'SANTA ROSA DE SACCO': 696, 'SANTA TERESA': 697, 'SANTIAGO': 698, 'SANTIAGO DE CAO': 699, 'SANTIAGO DE CHUCO': 700, 'SANTILLANA': 701, 'SANTO DOMINGO': 702, 'SANTO TOMAS': 703, 'SAPALLANGA': 704, 'SAPILLICA': 705, 'SAPOSOA': 706, 'SARAYACU': 707, 'SARHUA': 708, 'SARTIMBAMBA': 709, 'SATIPO': 710, 'SAUCE': 711, 'SAUSA': 712, 'SAYAN': 713, 'SAYLLA': 714, 'SAÑA': 715, 'SECCLLA': 716, 'SECHURA': 717, 'SEPAHUA': 718, 'SHANAO': 719, 'SHAPAJA': 720, 'SHATOJA': 721, 'SICAYA': 722, 'SICUANI': 723, 'SIHUAS': 724, 'SIMBAL': 725, 'SIMON BOLIVAR': 726, 'SINCOS': 727, 'SIVIA': 728, 'SOCABAYA': 729, 'SOCOS': 730, 'SOCOTA': 731, 'SOLOCO': 732, 'SORITOR': 733, 'SOROCHUCO': 734, 'SUBTANJALLA': 735, 'SUCCHA': 736, 'SULLANA': 737, 'SUNAMPE': 738, 'SUPE': 739, 'SUPE PUERTO': 740, 'SURCO': 741, 'SURCUBAMBA': 742, 'SUYO': 743, 'TABACONAS': 744, 'TABALOSOS': 745, 'TACABAMBA': 746, 'TACNA': 747, 'TAHUAMANU': 748, 'TAHUANIA': 749, 'TALAVERA': 750, 'TAMARINDO': 751, 'TAMBO': 752, 'TAMBO DE MORA': 753, 'TAMBO GRANDE': 754, 'TAMBOBAMBA': 755, 'TAMBOPATA': 756, 'TAMBURCO': 757, 'TAPUC': 758, 'TARACO': 759, 'TARAPOTO': 760, 'TARATA': 761, 'TARICA': 762, 'TARMA': 763, 'TATE': 764, 'TAYABAMBA': 765, 'TIABAYA': 766, 'TICAPAMPA': 767, 'TICLACAYAN': 768, 'TICRAPO': 769, 'TIGRE': 770, 'TILALI': 771, 'TINCO': 772, 'TINGO': 773, 'TINGO DE PONASA': 774, 'TINGO DE SAPOSOA': 775, 'TINTA': 776, 'TINYAHUARCO': 777, 'TOCACHE': 778, 'TONGOD': 779, 'TORATA': 780, 'TROMPETEROS': 781, 'TRUJILLO': 782, 'TUCUME': 783, 'TUMAN': 784, 'TUMBES': 785, 'TUPAC AMARU INCA': 786, 'UCHIZA': 787, 'UCHUMAYO': 788, 'ULCUMAYO': 789, 'URACA': 790, 'URARINAS': 791, 'URCOS': 792, 'URUBAMBA': 793, 'USQUIL': 794, 'VEGUETA': 795, 'VEINTISEIS DE OCTUBRE': 796, 'VELILLE': 797, 'VENTANILLA': 798, 'VICCO': 799, 'VICE': 800, 'VICHAYAL': 801, 'VICTOR LARCO HERRERA': 802, 'VILCABAMBA': 803, 'VILCAS HUAMAN': 804, 'VILLA RICA': 805, 'VILQUE CHICO': 806, 'VINCHOS': 807, 'VIRU': 808, 'VISTA ALEGRE': 809, 'VITOR': 810, 'VIÑAC': 811, 'WANCHAQ': 812, 'YAMANGO': 813, 'YANACANCHA': 814, 'YANAHUANCA': 815, 'YANAHUARA': 816, 'YANAMA': 817, 'YANAOCA': 818, 'YANATILE': 819, 'YANTALO': 820, 'YARINACOCHA': 821, 'YAUCA': 822, 'YAUCA DEL ROSARIO': 823, 'YAULI': 824, 'YAUTAN': 825, 'YAUYOS': 826, 'YAUYUCAN': 827, 'YAVARI': 828, 'YONAN': 829, 'YUCAY': 830, 'YUNGAR': 831, 'YUNGAY': 832, 'YUNGUYO': 833, 'YURA': 834, 'YURACYACU': 835, 'YURIMAGUAS': 836, 'YUYAPICHIS': 837, 'ZAPATERO': 838, 'ZARUMILLA': 839, 'ZEPITA': 840, 'ZORRITOS': 841}}\n"
     ]
    },
    {
     "data": {
      "text/html": [
       "<div>\n",
       "<style scoped>\n",
       "    .dataframe tbody tr th:only-of-type {\n",
       "        vertical-align: middle;\n",
       "    }\n",
       "\n",
       "    .dataframe tbody tr th {\n",
       "        vertical-align: top;\n",
       "    }\n",
       "\n",
       "    .dataframe thead th {\n",
       "        text-align: right;\n",
       "    }\n",
       "</style>\n",
       "<table border=\"1\" class=\"dataframe\">\n",
       "  <thead>\n",
       "    <tr style=\"text-align: right;\">\n",
       "      <th></th>\n",
       "      <th>DEPARTAMENTO</th>\n",
       "      <th>PROVINCIA</th>\n",
       "      <th>DISTRITO</th>\n",
       "      <th>SEXO</th>\n",
       "      <th>Year</th>\n",
       "      <th>Month</th>\n",
       "      <th>Day</th>\n",
       "      <th>contar_fall</th>\n",
       "      <th>METODODX</th>\n",
       "      <th>contar_pos</th>\n",
       "      <th>Riesgo_distrito</th>\n",
       "    </tr>\n",
       "  </thead>\n",
       "  <tbody>\n",
       "    <tr>\n",
       "      <th>0</th>\n",
       "      <td>0</td>\n",
       "      <td>16</td>\n",
       "      <td>59</td>\n",
       "      <td>0</td>\n",
       "      <td>2020</td>\n",
       "      <td>7</td>\n",
       "      <td>20</td>\n",
       "      <td>1.0</td>\n",
       "      <td>1</td>\n",
       "      <td>4.0</td>\n",
       "      <td>4.0</td>\n",
       "    </tr>\n",
       "    <tr>\n",
       "      <th>1</th>\n",
       "      <td>0</td>\n",
       "      <td>16</td>\n",
       "      <td>59</td>\n",
       "      <td>1</td>\n",
       "      <td>2021</td>\n",
       "      <td>4</td>\n",
       "      <td>23</td>\n",
       "      <td>2.0</td>\n",
       "      <td>1</td>\n",
       "      <td>1.0</td>\n",
       "      <td>4.0</td>\n",
       "    </tr>\n",
       "    <tr>\n",
       "      <th>2</th>\n",
       "      <td>0</td>\n",
       "      <td>176</td>\n",
       "      <td>60</td>\n",
       "      <td>1</td>\n",
       "      <td>2021</td>\n",
       "      <td>2</td>\n",
       "      <td>3</td>\n",
       "      <td>1.0</td>\n",
       "      <td>1</td>\n",
       "      <td>1.0</td>\n",
       "      <td>4.0</td>\n",
       "    </tr>\n",
       "    <tr>\n",
       "      <th>3</th>\n",
       "      <td>1</td>\n",
       "      <td>36</td>\n",
       "      <td>115</td>\n",
       "      <td>1</td>\n",
       "      <td>2020</td>\n",
       "      <td>5</td>\n",
       "      <td>8</td>\n",
       "      <td>1.0</td>\n",
       "      <td>1</td>\n",
       "      <td>2.0</td>\n",
       "      <td>3.0</td>\n",
       "    </tr>\n",
       "    <tr>\n",
       "      <th>4</th>\n",
       "      <td>1</td>\n",
       "      <td>36</td>\n",
       "      <td>115</td>\n",
       "      <td>1</td>\n",
       "      <td>2021</td>\n",
       "      <td>4</td>\n",
       "      <td>7</td>\n",
       "      <td>1.0</td>\n",
       "      <td>1</td>\n",
       "      <td>1.0</td>\n",
       "      <td>2.0</td>\n",
       "    </tr>\n",
       "  </tbody>\n",
       "</table>\n",
       "</div>"
      ],
      "text/plain": [
       "   DEPARTAMENTO  PROVINCIA  DISTRITO  SEXO  Year  Month  Day  contar_fall  \\\n",
       "0             0         16        59     0  2020      7   20          1.0   \n",
       "1             0         16        59     1  2021      4   23          2.0   \n",
       "2             0        176        60     1  2021      2    3          1.0   \n",
       "3             1         36       115     1  2020      5    8          1.0   \n",
       "4             1         36       115     1  2021      4    7          1.0   \n",
       "\n",
       "   METODODX  contar_pos  Riesgo_distrito  \n",
       "0         1         4.0              4.0  \n",
       "1         1         1.0              4.0  \n",
       "2         1         1.0              4.0  \n",
       "3         1         2.0              3.0  \n",
       "4         1         1.0              2.0  "
      ]
     },
     "execution_count": 34,
     "metadata": {},
     "output_type": "execute_result"
    }
   ],
   "source": [
    "labels = data['DISTRITO'].astype('category').cat.categories.tolist()\n",
    "replace_map_comp = {'DISTRITO' : {k: v for k,v in zip(labels,list(range(0,len(labels)+1)))}}\n",
    "\n",
    "print(replace_map_comp)\n",
    "data6 = data5.copy()\n",
    "data6.replace(replace_map_comp, inplace=True)\n",
    "\n",
    "data6.head()"
   ]
  }
 ],
 "metadata": {
  "colab": {
   "collapsed_sections": [],
   "provenance": []
  },
  "kernelspec": {
   "display_name": "Python 3.9.12 ('base')",
   "language": "python",
   "name": "python3"
  },
  "language_info": {
   "codemirror_mode": {
    "name": "ipython",
    "version": 3
   },
   "file_extension": ".py",
   "mimetype": "text/x-python",
   "name": "python",
   "nbconvert_exporter": "python",
   "pygments_lexer": "ipython3",
   "version": "3.9.12"
  },
  "vscode": {
   "interpreter": {
    "hash": "bddb6c94227d8177e61600db041b4cc1c87a884063126e29a3bfd540ed5196fb"
   }
  }
 },
 "nbformat": 4,
 "nbformat_minor": 5
}
